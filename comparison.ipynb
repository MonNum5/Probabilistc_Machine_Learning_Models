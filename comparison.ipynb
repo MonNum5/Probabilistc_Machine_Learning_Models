{
 "nbformat": 4,
 "nbformat_minor": 2,
 "metadata": {
  "language_info": {
   "name": "python",
   "codemirror_mode": {
    "name": "ipython",
    "version": 3
   },
   "version": "3.7.3-final"
  },
  "orig_nbformat": 2,
  "file_extension": ".py",
  "mimetype": "text/x-python",
  "name": "python",
  "npconvert_exporter": "python",
  "pygments_lexer": "ipython3",
  "version": 3,
  "kernelspec": {
   "name": "probabilistic_ml_models",
   "display_name": "probabilistic_ml_models"
  }
 },
 "cells": [
  {
   "cell_type": "markdown",
   "metadata": {},
   "source": [
    "# Comparison of different probabilistic Machine Learning algorithms"
   ]
  },
  {
   "cell_type": "markdown",
   "metadata": {},
   "source": [
    "## Description\n",
    "This notebook is a comparison of the different algorithms with respect to a fit of a 1D function with noise and UCI regression data sets. The algorithms not only predict the median but also the 90 % prediction intervall for each case. For the Fitting of the 1D function the comparison is done on the graph of the function itself. For the UCI data sets the comparison is done using unity plots. "
   ]
  },
  {
   "cell_type": "code",
   "execution_count": 12,
   "metadata": {},
   "outputs": [],
   "source": [
    "import sys\n",
    "import matplotlib.pyplot as plt\n",
    "sys.path.append('models/')\n",
    "\n",
    "# Import models\n",
    "from bootstrap_net_pytorch_cuda import bootstrap_ensemble\n",
    "from mc_net_pytorch_cuda import MCDnet"
   ]
  },
  {
   "cell_type": "code",
   "execution_count": 1,
   "metadata": {},
   "outputs": [
    {
     "output_type": "display_data",
     "data": {
      "application/vnd.plotly.v1+json": {
       "config": {
        "plotlyServerURL": "https://plot.ly"
       },
       "data": [
        {
         "mode": "markers",
         "name": "Function to Predict",
         "type": "scatter",
         "x": [
          7.833667278289795,
          3.1415390968322754,
          2.8083817958831787,
          9.51856803894043,
          2.778841733932495,
          2.359815835952759,
          0.3101038336753845,
          5.709722995758057,
          2.0939667224884033,
          1.2961573600769043,
          6.1917338371276855,
          9.624958992004395,
          1.4201610088348389,
          8.165426254272461,
          8.139214515686035,
          7.853847026824951,
          4.394476890563965,
          2.3090131282806396,
          1.9930051565170288,
          5.105836391448975,
          9.979461669921875,
          7.18750524520874,
          3.357977867126465,
          2.0525102615356445,
          9.621867179870605,
          8.590546607971191,
          4.5089030265808105,
          7.0516357421875,
          3.721987724304199,
          3.336660385131836,
          2.6864519119262695,
          0.8156893849372864,
          9.33707046508789,
          1.6326425075531006,
          6.461503505706787,
          4.2202534675598145,
          9.812285423278809,
          3.7524325847625732,
          1.7022398710250854,
          5.856790542602539,
          2.719482421875,
          2.1885929107666016,
          4.194796562194824,
          3.553309202194214,
          8.266727447509766,
          0.5619921684265137,
          0.2772257924079895,
          4.810675621032715,
          8.40459156036377,
          9.1220064163208,
          1.6138262748718262,
          9.437911987304688,
          8.180026054382324,
          5.510898590087891,
          9.566362380981445,
          8.887161254882812,
          8.016580581665039,
          8.674323081970215,
          2.4902145862579346,
          9.583443641662598,
          6.303795337677002,
          1.8977552652359009,
          7.563808917999268,
          0.924839198589325,
          5.229874134063721,
          8.596200942993164,
          7.807482719421387,
          3.456239700317383,
          7.9385294914245605,
          0.2538071572780609,
          6.806778430938721,
          6.429945945739746,
          3.928048849105835,
          2.1909334659576416,
          8.32621955871582,
          2.077867269515991,
          9.602721214294434,
          4.469424724578857,
          8.489740371704102,
          5.447901725769043,
          9.695408821105957,
          0.9631102085113525,
          1.2135217189788818,
          8.298971176147461,
          2.669668197631836,
          1.7499035596847534,
          9.446839332580566,
          4.3066630363464355,
          1.6163874864578247,
          9.4347562789917,
          4.382085800170898,
          5.820896625518799,
          3.98917818069458,
          1.0541187524795532,
          8.238240242004395,
          1.3879599571228027,
          2.78171706199646,
          4.656119346618652,
          9.347772598266602,
          9.551891326904297
         ],
         "y": [
          8.520040512084961,
          0.7048314809799194,
          1.2071468830108643,
          -3.003004789352417,
          0.6744877696037292,
          3.3098065853118896,
          -1.400132179260254,
          -4.333642959594727,
          1.9161152839660645,
          4.9308576583862305,
          -1.0664266347885132,
          -1.8016294240951538,
          2.0166139602661133,
          5.548381805419922,
          9.715536117553711,
          6.1155571937561035,
          -4.962893009185791,
          3.817610502243042,
          1.1557538509368896,
          -1.5110641717910767,
          -2.847273588180542,
          3.1843762397766113,
          -1.0112391710281372,
          3.3762402534484863,
          -2.645731210708618,
          4.965024471282959,
          -5.103990077972412,
          5.4647674560546875,
          -1.791317105293274,
          1.2001272439956665,
          3.2635695934295654,
          0.8159882426261902,
          2.0568771362304688,
          3.226367473602295,
          3.604614734649658,
          -3.1387343406677246,
          -2.7165565490722656,
          -2.413792371749878,
          0.3830483853816986,
          -0.38555821776390076,
          -0.01385216973721981,
          -0.1772816926240921,
          -5.027018070220947,
          -1.1619666814804077,
          8.591653823852539,
          4.421196460723877,
          0.08785215020179749,
          -4.722328186035156,
          5.920032501220703,
          2.0827276706695557,
          -0.3048343360424042,
          0.19382399320602417,
          8.071709632873535,
          -2.325521230697632,
          -6.65761661529541,
          2.9930214881896973,
          6.599522113800049,
          4.623781681060791,
          -2.148104429244995,
          -2.446824550628662,
          0.6292527318000793,
          2.3634328842163086,
          6.692376136779785,
          0.9994882345199585,
          -6.868546009063721,
          4.999258518218994,
          7.513772010803223,
          -2.8612606525421143,
          9.647076606750488,
          -1.9902712106704712,
          2.634570837020874,
          3.7250263690948486,
          -3.612478256225586,
          4.011340141296387,
          7.539155006408691,
          0.8209277391433716,
          1.9945068359375,
          -5.108058929443359,
          6.614737510681152,
          -4.678752899169922,
          -2.6164956092834473,
          3.633991003036499,
          1.3045796155929565,
          10.556499481201172,
          -0.029054611921310425,
          -0.7681995034217834,
          -2.326915979385376,
          -3.5003678798675537,
          1.9354969263076782,
          2.208845615386963,
          -1.0141830444335938,
          -0.9146646857261658,
          -3.6870648860931396,
          3.3773677349090576,
          6.428510665893555,
          4.244058609008789,
          1.0596208572387695,
          -3.4073410034179688,
          0.4604065716266632,
          -0.645923912525177
         ]
        }
       ],
       "layout": {
        "template": {
         "data": {
          "bar": [
           {
            "error_x": {
             "color": "#2a3f5f"
            },
            "error_y": {
             "color": "#2a3f5f"
            },
            "marker": {
             "line": {
              "color": "#E5ECF6",
              "width": 0.5
             }
            },
            "type": "bar"
           }
          ],
          "barpolar": [
           {
            "marker": {
             "line": {
              "color": "#E5ECF6",
              "width": 0.5
             }
            },
            "type": "barpolar"
           }
          ],
          "carpet": [
           {
            "aaxis": {
             "endlinecolor": "#2a3f5f",
             "gridcolor": "white",
             "linecolor": "white",
             "minorgridcolor": "white",
             "startlinecolor": "#2a3f5f"
            },
            "baxis": {
             "endlinecolor": "#2a3f5f",
             "gridcolor": "white",
             "linecolor": "white",
             "minorgridcolor": "white",
             "startlinecolor": "#2a3f5f"
            },
            "type": "carpet"
           }
          ],
          "choropleth": [
           {
            "colorbar": {
             "outlinewidth": 0,
             "ticks": ""
            },
            "type": "choropleth"
           }
          ],
          "contour": [
           {
            "colorbar": {
             "outlinewidth": 0,
             "ticks": ""
            },
            "colorscale": [
             [
              0,
              "#0d0887"
             ],
             [
              0.1111111111111111,
              "#46039f"
             ],
             [
              0.2222222222222222,
              "#7201a8"
             ],
             [
              0.3333333333333333,
              "#9c179e"
             ],
             [
              0.4444444444444444,
              "#bd3786"
             ],
             [
              0.5555555555555556,
              "#d8576b"
             ],
             [
              0.6666666666666666,
              "#ed7953"
             ],
             [
              0.7777777777777778,
              "#fb9f3a"
             ],
             [
              0.8888888888888888,
              "#fdca26"
             ],
             [
              1,
              "#f0f921"
             ]
            ],
            "type": "contour"
           }
          ],
          "contourcarpet": [
           {
            "colorbar": {
             "outlinewidth": 0,
             "ticks": ""
            },
            "type": "contourcarpet"
           }
          ],
          "heatmap": [
           {
            "colorbar": {
             "outlinewidth": 0,
             "ticks": ""
            },
            "colorscale": [
             [
              0,
              "#0d0887"
             ],
             [
              0.1111111111111111,
              "#46039f"
             ],
             [
              0.2222222222222222,
              "#7201a8"
             ],
             [
              0.3333333333333333,
              "#9c179e"
             ],
             [
              0.4444444444444444,
              "#bd3786"
             ],
             [
              0.5555555555555556,
              "#d8576b"
             ],
             [
              0.6666666666666666,
              "#ed7953"
             ],
             [
              0.7777777777777778,
              "#fb9f3a"
             ],
             [
              0.8888888888888888,
              "#fdca26"
             ],
             [
              1,
              "#f0f921"
             ]
            ],
            "type": "heatmap"
           }
          ],
          "heatmapgl": [
           {
            "colorbar": {
             "outlinewidth": 0,
             "ticks": ""
            },
            "colorscale": [
             [
              0,
              "#0d0887"
             ],
             [
              0.1111111111111111,
              "#46039f"
             ],
             [
              0.2222222222222222,
              "#7201a8"
             ],
             [
              0.3333333333333333,
              "#9c179e"
             ],
             [
              0.4444444444444444,
              "#bd3786"
             ],
             [
              0.5555555555555556,
              "#d8576b"
             ],
             [
              0.6666666666666666,
              "#ed7953"
             ],
             [
              0.7777777777777778,
              "#fb9f3a"
             ],
             [
              0.8888888888888888,
              "#fdca26"
             ],
             [
              1,
              "#f0f921"
             ]
            ],
            "type": "heatmapgl"
           }
          ],
          "histogram": [
           {
            "marker": {
             "colorbar": {
              "outlinewidth": 0,
              "ticks": ""
             }
            },
            "type": "histogram"
           }
          ],
          "histogram2d": [
           {
            "colorbar": {
             "outlinewidth": 0,
             "ticks": ""
            },
            "colorscale": [
             [
              0,
              "#0d0887"
             ],
             [
              0.1111111111111111,
              "#46039f"
             ],
             [
              0.2222222222222222,
              "#7201a8"
             ],
             [
              0.3333333333333333,
              "#9c179e"
             ],
             [
              0.4444444444444444,
              "#bd3786"
             ],
             [
              0.5555555555555556,
              "#d8576b"
             ],
             [
              0.6666666666666666,
              "#ed7953"
             ],
             [
              0.7777777777777778,
              "#fb9f3a"
             ],
             [
              0.8888888888888888,
              "#fdca26"
             ],
             [
              1,
              "#f0f921"
             ]
            ],
            "type": "histogram2d"
           }
          ],
          "histogram2dcontour": [
           {
            "colorbar": {
             "outlinewidth": 0,
             "ticks": ""
            },
            "colorscale": [
             [
              0,
              "#0d0887"
             ],
             [
              0.1111111111111111,
              "#46039f"
             ],
             [
              0.2222222222222222,
              "#7201a8"
             ],
             [
              0.3333333333333333,
              "#9c179e"
             ],
             [
              0.4444444444444444,
              "#bd3786"
             ],
             [
              0.5555555555555556,
              "#d8576b"
             ],
             [
              0.6666666666666666,
              "#ed7953"
             ],
             [
              0.7777777777777778,
              "#fb9f3a"
             ],
             [
              0.8888888888888888,
              "#fdca26"
             ],
             [
              1,
              "#f0f921"
             ]
            ],
            "type": "histogram2dcontour"
           }
          ],
          "mesh3d": [
           {
            "colorbar": {
             "outlinewidth": 0,
             "ticks": ""
            },
            "type": "mesh3d"
           }
          ],
          "parcoords": [
           {
            "line": {
             "colorbar": {
              "outlinewidth": 0,
              "ticks": ""
             }
            },
            "type": "parcoords"
           }
          ],
          "pie": [
           {
            "automargin": true,
            "type": "pie"
           }
          ],
          "scatter": [
           {
            "marker": {
             "colorbar": {
              "outlinewidth": 0,
              "ticks": ""
             }
            },
            "type": "scatter"
           }
          ],
          "scatter3d": [
           {
            "line": {
             "colorbar": {
              "outlinewidth": 0,
              "ticks": ""
             }
            },
            "marker": {
             "colorbar": {
              "outlinewidth": 0,
              "ticks": ""
             }
            },
            "type": "scatter3d"
           }
          ],
          "scattercarpet": [
           {
            "marker": {
             "colorbar": {
              "outlinewidth": 0,
              "ticks": ""
             }
            },
            "type": "scattercarpet"
           }
          ],
          "scattergeo": [
           {
            "marker": {
             "colorbar": {
              "outlinewidth": 0,
              "ticks": ""
             }
            },
            "type": "scattergeo"
           }
          ],
          "scattergl": [
           {
            "marker": {
             "colorbar": {
              "outlinewidth": 0,
              "ticks": ""
             }
            },
            "type": "scattergl"
           }
          ],
          "scattermapbox": [
           {
            "marker": {
             "colorbar": {
              "outlinewidth": 0,
              "ticks": ""
             }
            },
            "type": "scattermapbox"
           }
          ],
          "scatterpolar": [
           {
            "marker": {
             "colorbar": {
              "outlinewidth": 0,
              "ticks": ""
             }
            },
            "type": "scatterpolar"
           }
          ],
          "scatterpolargl": [
           {
            "marker": {
             "colorbar": {
              "outlinewidth": 0,
              "ticks": ""
             }
            },
            "type": "scatterpolargl"
           }
          ],
          "scatterternary": [
           {
            "marker": {
             "colorbar": {
              "outlinewidth": 0,
              "ticks": ""
             }
            },
            "type": "scatterternary"
           }
          ],
          "surface": [
           {
            "colorbar": {
             "outlinewidth": 0,
             "ticks": ""
            },
            "colorscale": [
             [
              0,
              "#0d0887"
             ],
             [
              0.1111111111111111,
              "#46039f"
             ],
             [
              0.2222222222222222,
              "#7201a8"
             ],
             [
              0.3333333333333333,
              "#9c179e"
             ],
             [
              0.4444444444444444,
              "#bd3786"
             ],
             [
              0.5555555555555556,
              "#d8576b"
             ],
             [
              0.6666666666666666,
              "#ed7953"
             ],
             [
              0.7777777777777778,
              "#fb9f3a"
             ],
             [
              0.8888888888888888,
              "#fdca26"
             ],
             [
              1,
              "#f0f921"
             ]
            ],
            "type": "surface"
           }
          ],
          "table": [
           {
            "cells": {
             "fill": {
              "color": "#EBF0F8"
             },
             "line": {
              "color": "white"
             }
            },
            "header": {
             "fill": {
              "color": "#C8D4E3"
             },
             "line": {
              "color": "white"
             }
            },
            "type": "table"
           }
          ]
         },
         "layout": {
          "annotationdefaults": {
           "arrowcolor": "#2a3f5f",
           "arrowhead": 0,
           "arrowwidth": 1
          },
          "coloraxis": {
           "colorbar": {
            "outlinewidth": 0,
            "ticks": ""
           }
          },
          "colorscale": {
           "diverging": [
            [
             0,
             "#8e0152"
            ],
            [
             0.1,
             "#c51b7d"
            ],
            [
             0.2,
             "#de77ae"
            ],
            [
             0.3,
             "#f1b6da"
            ],
            [
             0.4,
             "#fde0ef"
            ],
            [
             0.5,
             "#f7f7f7"
            ],
            [
             0.6,
             "#e6f5d0"
            ],
            [
             0.7,
             "#b8e186"
            ],
            [
             0.8,
             "#7fbc41"
            ],
            [
             0.9,
             "#4d9221"
            ],
            [
             1,
             "#276419"
            ]
           ],
           "sequential": [
            [
             0,
             "#0d0887"
            ],
            [
             0.1111111111111111,
             "#46039f"
            ],
            [
             0.2222222222222222,
             "#7201a8"
            ],
            [
             0.3333333333333333,
             "#9c179e"
            ],
            [
             0.4444444444444444,
             "#bd3786"
            ],
            [
             0.5555555555555556,
             "#d8576b"
            ],
            [
             0.6666666666666666,
             "#ed7953"
            ],
            [
             0.7777777777777778,
             "#fb9f3a"
            ],
            [
             0.8888888888888888,
             "#fdca26"
            ],
            [
             1,
             "#f0f921"
            ]
           ],
           "sequentialminus": [
            [
             0,
             "#0d0887"
            ],
            [
             0.1111111111111111,
             "#46039f"
            ],
            [
             0.2222222222222222,
             "#7201a8"
            ],
            [
             0.3333333333333333,
             "#9c179e"
            ],
            [
             0.4444444444444444,
             "#bd3786"
            ],
            [
             0.5555555555555556,
             "#d8576b"
            ],
            [
             0.6666666666666666,
             "#ed7953"
            ],
            [
             0.7777777777777778,
             "#fb9f3a"
            ],
            [
             0.8888888888888888,
             "#fdca26"
            ],
            [
             1,
             "#f0f921"
            ]
           ]
          },
          "colorway": [
           "#636efa",
           "#EF553B",
           "#00cc96",
           "#ab63fa",
           "#FFA15A",
           "#19d3f3",
           "#FF6692",
           "#B6E880",
           "#FF97FF",
           "#FECB52"
          ],
          "font": {
           "color": "#2a3f5f"
          },
          "geo": {
           "bgcolor": "white",
           "lakecolor": "white",
           "landcolor": "#E5ECF6",
           "showlakes": true,
           "showland": true,
           "subunitcolor": "white"
          },
          "hoverlabel": {
           "align": "left"
          },
          "hovermode": "closest",
          "mapbox": {
           "style": "light"
          },
          "paper_bgcolor": "white",
          "plot_bgcolor": "#E5ECF6",
          "polar": {
           "angularaxis": {
            "gridcolor": "white",
            "linecolor": "white",
            "ticks": ""
           },
           "bgcolor": "#E5ECF6",
           "radialaxis": {
            "gridcolor": "white",
            "linecolor": "white",
            "ticks": ""
           }
          },
          "scene": {
           "xaxis": {
            "backgroundcolor": "#E5ECF6",
            "gridcolor": "white",
            "gridwidth": 2,
            "linecolor": "white",
            "showbackground": true,
            "ticks": "",
            "zerolinecolor": "white"
           },
           "yaxis": {
            "backgroundcolor": "#E5ECF6",
            "gridcolor": "white",
            "gridwidth": 2,
            "linecolor": "white",
            "showbackground": true,
            "ticks": "",
            "zerolinecolor": "white"
           },
           "zaxis": {
            "backgroundcolor": "#E5ECF6",
            "gridcolor": "white",
            "gridwidth": 2,
            "linecolor": "white",
            "showbackground": true,
            "ticks": "",
            "zerolinecolor": "white"
           }
          },
          "shapedefaults": {
           "line": {
            "color": "#2a3f5f"
           }
          },
          "ternary": {
           "aaxis": {
            "gridcolor": "white",
            "linecolor": "white",
            "ticks": ""
           },
           "baxis": {
            "gridcolor": "white",
            "linecolor": "white",
            "ticks": ""
           },
           "bgcolor": "#E5ECF6",
           "caxis": {
            "gridcolor": "white",
            "linecolor": "white",
            "ticks": ""
           }
          },
          "title": {
           "x": 0.05
          },
          "xaxis": {
           "automargin": true,
           "gridcolor": "white",
           "linecolor": "white",
           "ticks": "",
           "title": {
            "standoff": 15
           },
           "zerolinecolor": "white",
           "zerolinewidth": 2
          },
          "yaxis": {
           "automargin": true,
           "gridcolor": "white",
           "linecolor": "white",
           "ticks": "",
           "title": {
            "standoff": 15
           },
           "zerolinecolor": "white",
           "zerolinewidth": 2
          }
         }
        },
        "title": {
         "text": "1D Function to Predict"
        }
       }
      }
     },
     "metadata": {}
    }
   ],
   "source": [
    "import numpy as np\n",
    "import plotly.graph_objects as go\n",
    "\n",
    "# 1D Function to predict\n",
    "def f(x):\n",
    "    return x * np.sin(x)\n",
    "\n",
    "#  First the noiseless case\n",
    "X = np.atleast_2d(np.random.uniform(0, 10.0, size=100)).T\n",
    "X = X.astype(np.float32)\n",
    "\n",
    "# Observations\n",
    "y = f(X).ravel()\n",
    "\n",
    "dy = 1.5 + 1.0 * np.random.random(y.shape)\n",
    "noise = np.random.normal(0, dy)\n",
    "y += noise\n",
    "y = y.reshape(-1,1).astype(np.float32)\n",
    "\n",
    "# Create random data with numpy\n",
    "import numpy as np\n",
    "np.random.seed(1)\n",
    "\n",
    "\n",
    "fig = go.Figure()\n",
    "\n",
    "# Add traces\n",
    "fig.add_trace(go.Scatter(x=X.flatten(), y=y.flatten(),\n",
    "                    mode='markers',\n",
    "                    name='Function to Predict'))\n",
    "fig.update_layout(title='1D Function to Predict')\n",
    "fig.show()"
   ]
  },
  {
   "cell_type": "code",
   "execution_count": 4,
   "metadata": {},
   "outputs": [
    {
     "output_type": "stream",
     "name": "stdout",
     "text": "Epoch 1 loss: 22.555824279785156\nEpoch 51 loss: 15.820417404174805\nEpoch 101 loss: 8.659209251403809\nEpoch 151 loss: 6.026151657104492\nEpoch 201 loss: 3.0034914016723633\nEpoch 251 loss: 3.0599875450134277\nEpoch 301 loss: 2.953775644302368\nEpoch 351 loss: 3.89857816696167\nEpoch 401 loss: 3.111260175704956\nEpoch 451 loss: 2.889955520629883\nEpoch 1 loss: 23.92467498779297\nEpoch 51 loss: 12.42674446105957\nEpoch 101 loss: 7.9803466796875\nEpoch 151 loss: 4.58760404586792\nEpoch 201 loss: 3.4949090480804443\nEpoch 251 loss: 4.193452835083008\nEpoch 301 loss: 3.2647533416748047\nEpoch 351 loss: 3.231954336166382\nEpoch 401 loss: 3.3530972003936768\nEpoch 451 loss: 3.2039122581481934\nEpoch 1 loss: 23.91594696044922\nEpoch 51 loss: 8.703564643859863\nEpoch 101 loss: 4.920696258544922\nEpoch 151 loss: 4.009305953979492\nEpoch 201 loss: 3.663220167160034\nEpoch 251 loss: 3.803056001663208\nEpoch 301 loss: 2.726311445236206\nEpoch 351 loss: 3.115910291671753\nEpoch 401 loss: 2.293016195297241\nEpoch 451 loss: 2.125551700592041\nEpoch 1 loss: 16.423973083496094\nEpoch 51 loss: 13.645008087158203\nEpoch 101 loss: 13.015340805053711\nEpoch 151 loss: 12.602879524230957\nEpoch 201 loss: 11.994022369384766\nEpoch 251 loss: 11.17257308959961\nEpoch 301 loss: 10.531668663024902\nEpoch 351 loss: 10.533907890319824\nEpoch 401 loss: 8.742816925048828\nEpoch 451 loss: 9.2460355758667\nEpoch 1 loss: 14.507806777954102\nEpoch 51 loss: 9.473618507385254\nEpoch 101 loss: 5.5029144287109375\nEpoch 151 loss: 3.1722054481506348\nEpoch 201 loss: 2.574129343032837\nEpoch 251 loss: 2.5258049964904785\nEpoch 301 loss: 2.4753849506378174\nEpoch 351 loss: 2.561830520629883\nEpoch 401 loss: 2.4482290744781494\nEpoch 451 loss: 2.443979263305664\nEpoch 1 loss: 19.617895126342773\nEpoch 51 loss: 17.807472229003906\nEpoch 101 loss: 10.948987007141113\nEpoch 151 loss: 6.316415309906006\nEpoch 201 loss: 4.323371410369873\nEpoch 251 loss: 3.7837533950805664\nEpoch 301 loss: 3.6727283000946045\nEpoch 351 loss: 8.337677001953125\nEpoch 401 loss: 3.495356559753418\nEpoch 451 loss: 3.42570424079895\nEpoch 1 loss: 26.826499938964844\nEpoch 51 loss: 13.072854042053223\nEpoch 101 loss: 7.04196310043335\nEpoch 151 loss: 6.147631645202637\nEpoch 201 loss: 5.884329319000244\nEpoch 251 loss: 5.677733898162842\nEpoch 301 loss: 5.62537956237793\nEpoch 351 loss: 5.0898661613464355\nEpoch 401 loss: 4.633963108062744\nEpoch 451 loss: 4.254284858703613\nEpoch 1 loss: 17.998220443725586\nEpoch 51 loss: 8.044132232666016\nEpoch 101 loss: 6.080176830291748\nEpoch 151 loss: 5.003149032592773\nEpoch 201 loss: 4.611204624176025\nEpoch 251 loss: 7.483327865600586\nEpoch 301 loss: 3.7699286937713623\nEpoch 351 loss: 3.6388099193573\nEpoch 401 loss: 4.774961471557617\nEpoch 451 loss: 3.516535997390747\nEpoch 1 loss: 14.29014778137207\nEpoch 51 loss: 11.97386360168457\nEpoch 101 loss: 7.349346160888672\nEpoch 151 loss: 6.627838134765625\nEpoch 201 loss: 5.697880744934082\nEpoch 251 loss: 4.492810249328613\nEpoch 301 loss: 4.187548637390137\nEpoch 351 loss: 3.1745498180389404\nEpoch 401 loss: 3.8175530433654785\nEpoch 451 loss: 2.9358859062194824\nEpoch 1 loss: 19.328954696655273\nEpoch 51 loss: 13.400757789611816\nEpoch 101 loss: 6.335442066192627\nEpoch 151 loss: 5.877695083618164\nEpoch 201 loss: 5.658565521240234\nEpoch 251 loss: 5.433763027191162\nEpoch 301 loss: 5.183201313018799\nEpoch 351 loss: 4.897830009460449\nEpoch 401 loss: 4.581750392913818\nEpoch 451 loss: 4.464747905731201\nEpoch 1 loss: 17.214187622070312\nEpoch 51 loss: 18.131534576416016\nEpoch 101 loss: 13.702972412109375\nEpoch 151 loss: 13.988297462463379\nEpoch 201 loss: 13.707788467407227\nEpoch 251 loss: 15.708479881286621\nEpoch 301 loss: 12.523548126220703\nEpoch 351 loss: 12.098532676696777\nEpoch 401 loss: 9.231522560119629\nEpoch 451 loss: 10.650486946105957\nEpoch 1 loss: 18.831809997558594\nEpoch 51 loss: 20.814931869506836\nEpoch 101 loss: 15.5556058883667\nEpoch 151 loss: 18.886934280395508\nEpoch 201 loss: 12.814474105834961\nEpoch 251 loss: 15.472517013549805\nEpoch 301 loss: 12.762426376342773\nEpoch 351 loss: 16.47421646118164\nEpoch 401 loss: 14.153799057006836\nEpoch 451 loss: 14.483104705810547\nEpoch 1 loss: 17.192583084106445\nEpoch 51 loss: 20.244749069213867\nEpoch 101 loss: 14.11004638671875\nEpoch 151 loss: 17.798349380493164\nEpoch 201 loss: 13.38962173461914\nEpoch 251 loss: 15.510140419006348\nEpoch 301 loss: 15.113177299499512\nEpoch 351 loss: 15.20373821258545\nEpoch 401 loss: 15.223361015319824\nEpoch 451 loss: 17.069499969482422\nEpoch 1 loss: 19.204679489135742\nEpoch 51 loss: 23.024629592895508\nEpoch 101 loss: 18.135595321655273\nEpoch 151 loss: 13.790749549865723\nEpoch 201 loss: 17.06731414794922\nEpoch 251 loss: 16.685840606689453\nEpoch 301 loss: 13.338356018066406\nEpoch 351 loss: 10.426929473876953\nEpoch 401 loss: 14.901200294494629\nEpoch 451 loss: 13.161993026733398\nEpoch 1 loss: 9.935211181640625\nEpoch 51 loss: 15.711548805236816\nEpoch 101 loss: 10.565673828125\nEpoch 151 loss: 8.613397598266602\nEpoch 201 loss: 6.650272369384766\nEpoch 251 loss: 8.668386459350586\nEpoch 301 loss: 8.258576393127441\nEpoch 351 loss: 6.664506435394287\nEpoch 401 loss: 8.74981689453125\nEpoch 451 loss: 9.744921684265137\nEpoch 1 loss: 15.097232818603516\nEpoch 51 loss: 15.115021705627441\nEpoch 101 loss: 14.151671409606934\nEpoch 151 loss: 13.49117660522461\nEpoch 201 loss: 13.581230163574219\nEpoch 251 loss: 11.237390518188477\nEpoch 301 loss: 13.7894287109375\nEpoch 351 loss: 12.51112174987793\nEpoch 401 loss: 12.336097717285156\nEpoch 451 loss: 11.029122352600098\nEpoch 1 loss: 19.112220764160156\nEpoch 51 loss: 21.919235229492188\nEpoch 101 loss: 22.080957412719727\nEpoch 151 loss: 22.063993453979492\nEpoch 201 loss: 16.777408599853516\nEpoch 251 loss: 20.873641967773438\nEpoch 301 loss: 19.645601272583008\nEpoch 351 loss: 17.4550838470459\nEpoch 401 loss: 18.345422744750977\nEpoch 451 loss: 19.638307571411133\nEpoch 1 loss: 12.484292984008789\nEpoch 51 loss: 15.72296142578125\nEpoch 101 loss: 14.239546775817871\nEpoch 151 loss: 12.361427307128906\nEpoch 201 loss: 14.278888702392578\nEpoch 251 loss: 16.71295928955078\nEpoch 301 loss: 14.959253311157227\nEpoch 351 loss: 14.076855659484863\nEpoch 401 loss: 13.172771453857422\nEpoch 451 loss: 11.882763862609863\nEpoch 1 loss: 21.163602828979492\nEpoch 51 loss: 20.654335021972656\nEpoch 101 loss: 19.30866241455078\nEpoch 151 loss: 20.308582305908203\nEpoch 201 loss: 21.851381301879883\nEpoch 251 loss: 17.371335983276367\nEpoch 301 loss: 20.436325073242188\nEpoch 351 loss: 19.362728118896484\nEpoch 401 loss: 16.289735794067383\nEpoch 451 loss: 19.274761199951172\nEpoch 1 loss: 19.311782836914062\nEpoch 51 loss: 20.939741134643555\nEpoch 101 loss: 17.78489875793457\nEpoch 151 loss: 14.534089088439941\nEpoch 201 loss: 13.445984840393066\nEpoch 251 loss: 17.907045364379883\nEpoch 301 loss: 14.149056434631348\nEpoch 351 loss: 12.942090034484863\nEpoch 401 loss: 15.026714324951172\nEpoch 451 loss: 16.409923553466797\n"
    }
   ],
   "source": [
    "num_features=X.shape[1]\n",
    "num_labels=y.shape[1]\n",
    "\n",
    "# Make dict of models to compare\n",
    "models_dict={\n",
    "            'bootstrap_net':bootstrap_ensemble(num_features, num_labels, hidden_layers=(500,500,), droprate=0.0, lr=0.02,            weight_decay=1e-6, cuda=False, num_nets=10, activation='CELU',max_epoch=500),\n",
    "            'monte-carlo-dropout-net':bootstrap_ensemble(num_features, num_labels, hidden_layers=(500,500,),\n",
    "            droprate=0.5, lr=0.02,weight_decay=1e-6, cuda=False, activation='CELU',max_epoch=500)\n",
    "}\n",
    "\n",
    "# Train and save results in results dict\n",
    "results_dict={}\n",
    "for model in models_dict:\n",
    "    reg = models_dict[model]\n",
    "    reg.fit(X,y, verbose=True)\n",
    "    X_pred = np.linspace(0,10,11).reshape(-1,1)\n",
    "    y_median, y_lower_upper_quantil = reg.predict(X_pred, return_std=True)\n",
    "    results_dict[model]={'X_pred':X_pred, 'y_median':y_median, 'y_lower_upper_quantil':y_lower_upper_quantil}"
   ]
  },
  {
   "cell_type": "code",
   "execution_count": 47,
   "metadata": {},
   "outputs": [
    {
     "output_type": "display_data",
     "data": {
      "application/vnd.plotly.v1+json": {
       "config": {
        "plotlyServerURL": "https://plot.ly"
       },
       "data": [
        {
         "marker": {
          "color": "black"
         },
         "mode": "markers",
         "name": "Function to Predict",
         "type": "scatter",
         "x": [
          3.692037343978882,
          5.943924903869629,
          5.967129230499268,
          6.883127689361572,
          9.3826904296875,
          7.521560192108154,
          0.11682537198066711,
          0.12128695845603943,
          7.829036712646484,
          9.052240371704102,
          1.8526777029037476,
          9.801949501037598,
          8.167363166809082,
          4.242990016937256,
          4.768188953399658,
          8.345780372619629,
          5.4883036613464355,
          2.2817118167877197,
          3.357693910598755,
          7.0169901847839355,
          6.322386741638184,
          8.722623825073242,
          6.417751312255859,
          2.7618868350982666,
          0.3367175757884979,
          1.1776083707809448,
          7.784650802612305,
          1.3512086868286133,
          9.36234188079834,
          7.623655796051025,
          0.9544987082481384,
          7.096527576446533,
          1.2838139533996582,
          5.423813343048096,
          2.536172866821289,
          8.14456844329834,
          4.254845142364502,
          3.3710997104644775,
          2.041738271713257,
          9.82536792755127,
          6.668671131134033,
          4.175026893615723,
          2.6467864513397217,
          3.0024330615997314,
          8.008221626281738,
          4.785508632659912,
          6.84371280670166,
          1.1162747144699097,
          7.799377918243408,
          6.189063549041748,
          3.3151988983154297,
          3.546736240386963,
          6.152196407318115,
          7.0428266525268555,
          4.130763530731201,
          8.012351989746094,
          1.081702709197998,
          6.323044776916504,
          2.628424882888794,
          7.781220436096191,
          6.615183353424072,
          3.6030755043029785,
          3.1013400554656982,
          4.478005886077881,
          2.649681806564331,
          9.859925270080566,
          6.336143493652344,
          7.775201320648193,
          2.871093511581421,
          8.36667537689209,
          6.326011657714844,
          5.683273792266846,
          4.878172397613525,
          1.5633231401443481,
          0.3308030068874359,
          8.260063171386719,
          1.5183780193328857,
          8.963577270507812,
          9.185218811035156,
          2.7322030067443848,
          5.804083347320557,
          9.817520141601562,
          5.379061698913574,
          5.567674160003662,
          2.6567492485046387,
          3.1733200550079346,
          0.057557836174964905,
          3.157297372817993,
          1.5665045976638794,
          6.69495153427124,
          1.5956512689590454,
          6.402451038360596,
          3.3572752475738525,
          2.649824857711792,
          8.770655632019043,
          7.562319755554199,
          7.463953018188477,
          4.087818622589111,
          7.806679725646973,
          9.995077133178711
         ],
         "y": [
          -3.126138687133789,
          -3.628309488296509,
          -1.6429399251937866,
          1.592849850654602,
          -0.5330284833908081,
          6.285485744476318,
          -0.3983094096183777,
          -0.4004196226596832,
          8.351632118225098,
          4.280735015869141,
          2.707225799560547,
          -2.5856845378875732,
          8.802962303161621,
          -11.088788032531738,
          -4.697944641113281,
          4.645196914672852,
          -1.817239761352539,
          0.41744884848594666,
          -2.75119686126709,
          4.805850982666016,
          1.715825080871582,
          5.268347263336182,
          1.1482205390930176,
          -0.8051599264144897,
          -1.8604562282562256,
          3.7419230937957764,
          5.382784366607666,
          0.2021191418170929,
          -0.5038785338401794,
          8.316904067993164,
          1.1095528602600098,
          4.046382427215576,
          -1.0063276290893555,
          -7.492508888244629,
          2.9791083335876465,
          8.158164978027344,
          -1.3059495687484741,
          -0.5436933040618896,
          2.5357093811035156,
          -4.613874912261963,
          0.22891531884670258,
          -0.4937354028224945,
          0.08005831390619278,
          -0.3582104444503784,
          5.3472490310668945,
          -8.41340446472168,
          -0.7356193661689758,
          -2.429164409637451,
          4.210922718048096,
          -0.5643151998519897,
          -2.5882904529571533,
          -6.29502010345459,
          0.22569528222084045,
          4.9991960525512695,
          -6.538637161254883,
          7.355978012084961,
          2.8329179286956787,
          1.7830078601837158,
          -0.47068190574645996,
          9.175741195678711,
          0.006337233353406191,
          -2.4399006366729736,
          -4.950727462768555,
          -0.38062840700149536,
          -0.7132840752601624,
          0.8215112090110779,
          0.6223666667938232,
          7.164658069610596,
          -0.40725523233413696,
          7.213062763214111,
          -1.593320608139038,
          -3.7750561237335205,
          -4.0068488121032715,
          1.8595619201660156,
          -0.6982933282852173,
          8.405027389526367,
          2.9841246604919434,
          1.470365047454834,
          5.17035436630249,
          -0.2590905427932739,
          -2.9634206295013428,
          -4.2709784507751465,
          -7.6979265213012695,
          -4.170864582061768,
          -0.015017593279480934,
          -0.3337802290916443,
          -1.7846336364746094,
          1.2269132137298584,
          2.6216976642608643,
          7.298010349273682,
          4.358024597167969,
          -1.6139341592788696,
          -1.7599552869796753,
          1.269004464149475,
          4.809349536895752,
          8.044339179992676,
          6.8647027015686035,
          -2.899562358856201,
          4.6594648361206055,
          -5.923320293426514
         ]
        },
        {
         "marker": {
          "color": "rgba(0.8941176470588236,0.10196078431372549,0.10980392156862745,1.0)"
         },
         "mode": "lines",
         "name": "bootstrap_net median",
         "type": "scatter",
         "x": [
          0,
          1,
          2,
          3,
          4,
          5,
          6,
          7,
          8,
          9,
          10
         ],
         "y": [
          -4.120357513427734,
          1.4129969477653503,
          2.1511290073394775,
          -0.7940076291561127,
          -4.111192464828491,
          -5.151291608810425,
          -1.660875678062439,
          4.077542304992676,
          6.568246364593506,
          2.789707899093628,
          -1.8701851963996887
         ]
        },
        {
         "fillcolor": "rgba(0.8941176470588236,0.10196078431372549,0.10980392156862745,0.5)",
         "line": {
          "color": "rgba(0.8941176470588236,0.10196078431372549,0.10980392156862745,0.5)"
         },
         "mode": "lines",
         "name": "bootstrap_net upper intervall",
         "type": "scatter",
         "x": [
          0,
          1,
          2,
          3,
          4,
          5,
          6,
          7,
          8,
          9,
          10
         ],
         "y": [
          14.813732677698106,
          4.270494520664213,
          4.112501180171964,
          0.9792510688304876,
          -1.1127083927392993,
          -1.9400288879871388,
          1.7808966875076275,
          6.729008007049556,
          9.099104690551757,
          3.998960781097411,
          1.6103234410285947
         ]
        },
        {
         "fill": "tonexty",
         "fillcolor": "rgba(0.8941176470588236,0.10196078431372549,0.10980392156862745,0.5)",
         "line": {
          "color": "rgba(0.8941176470588236,0.10196078431372549,0.10980392156862745,0.5)"
         },
         "mode": "lines",
         "name": "bootstrap_net lower intervall",
         "type": "scatter",
         "x": [
          0,
          1,
          2,
          3,
          4,
          5,
          6,
          7,
          8,
          9,
          10
         ],
         "y": [
          -99.08457832336427,
          -3.3235169768333437,
          0.7408408999443055,
          -2.1682059943675998,
          -7.735773801803589,
          -9.047973108291627,
          -3.4677469611167906,
          2.1069224059581755,
          3.848929011821747,
          0.4984416030347347,
          -4.530493962764741
         ]
        },
        {
         "marker": {
          "color": "rgba(0.6,0.6,0.6,1.0)"
         },
         "mode": "lines",
         "name": "monte-carlo-dropout-net median",
         "type": "scatter",
         "x": [
          0,
          1,
          2,
          3,
          4,
          5,
          6,
          7,
          8,
          9,
          10
         ],
         "y": [
          -1.800416648387909,
          1.3267384767532349,
          0.7838613986968994,
          -1.0788462460041046,
          -1.470122218132019,
          -1.5557186603546143,
          0.19626006856560707,
          0.9441705197095871,
          2.393312096595764,
          3.605697989463806,
          3.2252196073532104
         ]
        },
        {
         "fillcolor": "rgba(0.6,0.6,0.6,0.5)",
         "line": {
          "color": "rgba(0.6,0.6,0.6,0.5)"
         },
         "mode": "lines",
         "name": "monte-carlo-dropout-net upper intervall",
         "type": "scatter",
         "x": [
          0,
          1,
          2,
          3,
          4,
          5,
          6,
          7,
          8,
          9,
          10
         ],
         "y": [
          -0.13932107761502288,
          3.550035786628721,
          1.742560005187988,
          1.4436984866857516,
          0.6619752556085583,
          -0.38634597510099455,
          1.26120136976242,
          3.555774784088133,
          6.07744779586792,
          6.983067369461058,
          6.133033537864683
         ]
        },
        {
         "fill": "tonexty",
         "fillcolor": "rgba(0.6,0.6,0.6,0.5)",
         "line": {
          "color": "rgba(0.6,0.6,0.6,0.5)"
         },
         "mode": "lines",
         "name": "monte-carlo-dropout-net lower intervall",
         "type": "scatter",
         "x": [
          0,
          1,
          2,
          3,
          4,
          5,
          6,
          7,
          8,
          9,
          10
         ],
         "y": [
          -7.908524203300477,
          -0.7961151897907257,
          -1.8846587598323823,
          -3.5221241593360904,
          -3.3184113264083863,
          -3.178967380523682,
          -1.1034031927585601,
          -0.962330258637667,
          0.013520401716232477,
          0.18350226730108243,
          0.3021334141492842
         ]
        }
       ],
       "layout": {
        "height": 600,
        "template": {
         "data": {
          "bar": [
           {
            "error_x": {
             "color": "#2a3f5f"
            },
            "error_y": {
             "color": "#2a3f5f"
            },
            "marker": {
             "line": {
              "color": "white",
              "width": 0.5
             }
            },
            "type": "bar"
           }
          ],
          "barpolar": [
           {
            "marker": {
             "line": {
              "color": "white",
              "width": 0.5
             }
            },
            "type": "barpolar"
           }
          ],
          "carpet": [
           {
            "aaxis": {
             "endlinecolor": "#2a3f5f",
             "gridcolor": "#C8D4E3",
             "linecolor": "#C8D4E3",
             "minorgridcolor": "#C8D4E3",
             "startlinecolor": "#2a3f5f"
            },
            "baxis": {
             "endlinecolor": "#2a3f5f",
             "gridcolor": "#C8D4E3",
             "linecolor": "#C8D4E3",
             "minorgridcolor": "#C8D4E3",
             "startlinecolor": "#2a3f5f"
            },
            "type": "carpet"
           }
          ],
          "choropleth": [
           {
            "colorbar": {
             "outlinewidth": 0,
             "ticks": ""
            },
            "type": "choropleth"
           }
          ],
          "contour": [
           {
            "colorbar": {
             "outlinewidth": 0,
             "ticks": ""
            },
            "colorscale": [
             [
              0,
              "#0d0887"
             ],
             [
              0.1111111111111111,
              "#46039f"
             ],
             [
              0.2222222222222222,
              "#7201a8"
             ],
             [
              0.3333333333333333,
              "#9c179e"
             ],
             [
              0.4444444444444444,
              "#bd3786"
             ],
             [
              0.5555555555555556,
              "#d8576b"
             ],
             [
              0.6666666666666666,
              "#ed7953"
             ],
             [
              0.7777777777777778,
              "#fb9f3a"
             ],
             [
              0.8888888888888888,
              "#fdca26"
             ],
             [
              1,
              "#f0f921"
             ]
            ],
            "type": "contour"
           }
          ],
          "contourcarpet": [
           {
            "colorbar": {
             "outlinewidth": 0,
             "ticks": ""
            },
            "type": "contourcarpet"
           }
          ],
          "heatmap": [
           {
            "colorbar": {
             "outlinewidth": 0,
             "ticks": ""
            },
            "colorscale": [
             [
              0,
              "#0d0887"
             ],
             [
              0.1111111111111111,
              "#46039f"
             ],
             [
              0.2222222222222222,
              "#7201a8"
             ],
             [
              0.3333333333333333,
              "#9c179e"
             ],
             [
              0.4444444444444444,
              "#bd3786"
             ],
             [
              0.5555555555555556,
              "#d8576b"
             ],
             [
              0.6666666666666666,
              "#ed7953"
             ],
             [
              0.7777777777777778,
              "#fb9f3a"
             ],
             [
              0.8888888888888888,
              "#fdca26"
             ],
             [
              1,
              "#f0f921"
             ]
            ],
            "type": "heatmap"
           }
          ],
          "heatmapgl": [
           {
            "colorbar": {
             "outlinewidth": 0,
             "ticks": ""
            },
            "colorscale": [
             [
              0,
              "#0d0887"
             ],
             [
              0.1111111111111111,
              "#46039f"
             ],
             [
              0.2222222222222222,
              "#7201a8"
             ],
             [
              0.3333333333333333,
              "#9c179e"
             ],
             [
              0.4444444444444444,
              "#bd3786"
             ],
             [
              0.5555555555555556,
              "#d8576b"
             ],
             [
              0.6666666666666666,
              "#ed7953"
             ],
             [
              0.7777777777777778,
              "#fb9f3a"
             ],
             [
              0.8888888888888888,
              "#fdca26"
             ],
             [
              1,
              "#f0f921"
             ]
            ],
            "type": "heatmapgl"
           }
          ],
          "histogram": [
           {
            "marker": {
             "colorbar": {
              "outlinewidth": 0,
              "ticks": ""
             }
            },
            "type": "histogram"
           }
          ],
          "histogram2d": [
           {
            "colorbar": {
             "outlinewidth": 0,
             "ticks": ""
            },
            "colorscale": [
             [
              0,
              "#0d0887"
             ],
             [
              0.1111111111111111,
              "#46039f"
             ],
             [
              0.2222222222222222,
              "#7201a8"
             ],
             [
              0.3333333333333333,
              "#9c179e"
             ],
             [
              0.4444444444444444,
              "#bd3786"
             ],
             [
              0.5555555555555556,
              "#d8576b"
             ],
             [
              0.6666666666666666,
              "#ed7953"
             ],
             [
              0.7777777777777778,
              "#fb9f3a"
             ],
             [
              0.8888888888888888,
              "#fdca26"
             ],
             [
              1,
              "#f0f921"
             ]
            ],
            "type": "histogram2d"
           }
          ],
          "histogram2dcontour": [
           {
            "colorbar": {
             "outlinewidth": 0,
             "ticks": ""
            },
            "colorscale": [
             [
              0,
              "#0d0887"
             ],
             [
              0.1111111111111111,
              "#46039f"
             ],
             [
              0.2222222222222222,
              "#7201a8"
             ],
             [
              0.3333333333333333,
              "#9c179e"
             ],
             [
              0.4444444444444444,
              "#bd3786"
             ],
             [
              0.5555555555555556,
              "#d8576b"
             ],
             [
              0.6666666666666666,
              "#ed7953"
             ],
             [
              0.7777777777777778,
              "#fb9f3a"
             ],
             [
              0.8888888888888888,
              "#fdca26"
             ],
             [
              1,
              "#f0f921"
             ]
            ],
            "type": "histogram2dcontour"
           }
          ],
          "mesh3d": [
           {
            "colorbar": {
             "outlinewidth": 0,
             "ticks": ""
            },
            "type": "mesh3d"
           }
          ],
          "parcoords": [
           {
            "line": {
             "colorbar": {
              "outlinewidth": 0,
              "ticks": ""
             }
            },
            "type": "parcoords"
           }
          ],
          "pie": [
           {
            "automargin": true,
            "type": "pie"
           }
          ],
          "scatter": [
           {
            "marker": {
             "colorbar": {
              "outlinewidth": 0,
              "ticks": ""
             }
            },
            "type": "scatter"
           }
          ],
          "scatter3d": [
           {
            "line": {
             "colorbar": {
              "outlinewidth": 0,
              "ticks": ""
             }
            },
            "marker": {
             "colorbar": {
              "outlinewidth": 0,
              "ticks": ""
             }
            },
            "type": "scatter3d"
           }
          ],
          "scattercarpet": [
           {
            "marker": {
             "colorbar": {
              "outlinewidth": 0,
              "ticks": ""
             }
            },
            "type": "scattercarpet"
           }
          ],
          "scattergeo": [
           {
            "marker": {
             "colorbar": {
              "outlinewidth": 0,
              "ticks": ""
             }
            },
            "type": "scattergeo"
           }
          ],
          "scattergl": [
           {
            "marker": {
             "colorbar": {
              "outlinewidth": 0,
              "ticks": ""
             }
            },
            "type": "scattergl"
           }
          ],
          "scattermapbox": [
           {
            "marker": {
             "colorbar": {
              "outlinewidth": 0,
              "ticks": ""
             }
            },
            "type": "scattermapbox"
           }
          ],
          "scatterpolar": [
           {
            "marker": {
             "colorbar": {
              "outlinewidth": 0,
              "ticks": ""
             }
            },
            "type": "scatterpolar"
           }
          ],
          "scatterpolargl": [
           {
            "marker": {
             "colorbar": {
              "outlinewidth": 0,
              "ticks": ""
             }
            },
            "type": "scatterpolargl"
           }
          ],
          "scatterternary": [
           {
            "marker": {
             "colorbar": {
              "outlinewidth": 0,
              "ticks": ""
             }
            },
            "type": "scatterternary"
           }
          ],
          "surface": [
           {
            "colorbar": {
             "outlinewidth": 0,
             "ticks": ""
            },
            "colorscale": [
             [
              0,
              "#0d0887"
             ],
             [
              0.1111111111111111,
              "#46039f"
             ],
             [
              0.2222222222222222,
              "#7201a8"
             ],
             [
              0.3333333333333333,
              "#9c179e"
             ],
             [
              0.4444444444444444,
              "#bd3786"
             ],
             [
              0.5555555555555556,
              "#d8576b"
             ],
             [
              0.6666666666666666,
              "#ed7953"
             ],
             [
              0.7777777777777778,
              "#fb9f3a"
             ],
             [
              0.8888888888888888,
              "#fdca26"
             ],
             [
              1,
              "#f0f921"
             ]
            ],
            "type": "surface"
           }
          ],
          "table": [
           {
            "cells": {
             "fill": {
              "color": "#EBF0F8"
             },
             "line": {
              "color": "white"
             }
            },
            "header": {
             "fill": {
              "color": "#C8D4E3"
             },
             "line": {
              "color": "white"
             }
            },
            "type": "table"
           }
          ]
         },
         "layout": {
          "annotationdefaults": {
           "arrowcolor": "#2a3f5f",
           "arrowhead": 0,
           "arrowwidth": 1
          },
          "coloraxis": {
           "colorbar": {
            "outlinewidth": 0,
            "ticks": ""
           }
          },
          "colorscale": {
           "diverging": [
            [
             0,
             "#8e0152"
            ],
            [
             0.1,
             "#c51b7d"
            ],
            [
             0.2,
             "#de77ae"
            ],
            [
             0.3,
             "#f1b6da"
            ],
            [
             0.4,
             "#fde0ef"
            ],
            [
             0.5,
             "#f7f7f7"
            ],
            [
             0.6,
             "#e6f5d0"
            ],
            [
             0.7,
             "#b8e186"
            ],
            [
             0.8,
             "#7fbc41"
            ],
            [
             0.9,
             "#4d9221"
            ],
            [
             1,
             "#276419"
            ]
           ],
           "sequential": [
            [
             0,
             "#0d0887"
            ],
            [
             0.1111111111111111,
             "#46039f"
            ],
            [
             0.2222222222222222,
             "#7201a8"
            ],
            [
             0.3333333333333333,
             "#9c179e"
            ],
            [
             0.4444444444444444,
             "#bd3786"
            ],
            [
             0.5555555555555556,
             "#d8576b"
            ],
            [
             0.6666666666666666,
             "#ed7953"
            ],
            [
             0.7777777777777778,
             "#fb9f3a"
            ],
            [
             0.8888888888888888,
             "#fdca26"
            ],
            [
             1,
             "#f0f921"
            ]
           ],
           "sequentialminus": [
            [
             0,
             "#0d0887"
            ],
            [
             0.1111111111111111,
             "#46039f"
            ],
            [
             0.2222222222222222,
             "#7201a8"
            ],
            [
             0.3333333333333333,
             "#9c179e"
            ],
            [
             0.4444444444444444,
             "#bd3786"
            ],
            [
             0.5555555555555556,
             "#d8576b"
            ],
            [
             0.6666666666666666,
             "#ed7953"
            ],
            [
             0.7777777777777778,
             "#fb9f3a"
            ],
            [
             0.8888888888888888,
             "#fdca26"
            ],
            [
             1,
             "#f0f921"
            ]
           ]
          },
          "colorway": [
           "#636efa",
           "#EF553B",
           "#00cc96",
           "#ab63fa",
           "#FFA15A",
           "#19d3f3",
           "#FF6692",
           "#B6E880",
           "#FF97FF",
           "#FECB52"
          ],
          "font": {
           "color": "#2a3f5f"
          },
          "geo": {
           "bgcolor": "white",
           "lakecolor": "white",
           "landcolor": "white",
           "showlakes": true,
           "showland": true,
           "subunitcolor": "#C8D4E3"
          },
          "hoverlabel": {
           "align": "left"
          },
          "hovermode": "closest",
          "mapbox": {
           "style": "light"
          },
          "paper_bgcolor": "white",
          "plot_bgcolor": "white",
          "polar": {
           "angularaxis": {
            "gridcolor": "#EBF0F8",
            "linecolor": "#EBF0F8",
            "ticks": ""
           },
           "bgcolor": "white",
           "radialaxis": {
            "gridcolor": "#EBF0F8",
            "linecolor": "#EBF0F8",
            "ticks": ""
           }
          },
          "scene": {
           "xaxis": {
            "backgroundcolor": "white",
            "gridcolor": "#DFE8F3",
            "gridwidth": 2,
            "linecolor": "#EBF0F8",
            "showbackground": true,
            "ticks": "",
            "zerolinecolor": "#EBF0F8"
           },
           "yaxis": {
            "backgroundcolor": "white",
            "gridcolor": "#DFE8F3",
            "gridwidth": 2,
            "linecolor": "#EBF0F8",
            "showbackground": true,
            "ticks": "",
            "zerolinecolor": "#EBF0F8"
           },
           "zaxis": {
            "backgroundcolor": "white",
            "gridcolor": "#DFE8F3",
            "gridwidth": 2,
            "linecolor": "#EBF0F8",
            "showbackground": true,
            "ticks": "",
            "zerolinecolor": "#EBF0F8"
           }
          },
          "shapedefaults": {
           "line": {
            "color": "#2a3f5f"
           }
          },
          "ternary": {
           "aaxis": {
            "gridcolor": "#DFE8F3",
            "linecolor": "#A2B1C6",
            "ticks": ""
           },
           "baxis": {
            "gridcolor": "#DFE8F3",
            "linecolor": "#A2B1C6",
            "ticks": ""
           },
           "bgcolor": "white",
           "caxis": {
            "gridcolor": "#DFE8F3",
            "linecolor": "#A2B1C6",
            "ticks": ""
           }
          },
          "title": {
           "x": 0.05
          },
          "xaxis": {
           "automargin": true,
           "gridcolor": "#EBF0F8",
           "linecolor": "#EBF0F8",
           "ticks": "",
           "title": {
            "standoff": 15
           },
           "zerolinecolor": "#EBF0F8",
           "zerolinewidth": 2
          },
          "yaxis": {
           "automargin": true,
           "gridcolor": "#EBF0F8",
           "linecolor": "#EBF0F8",
           "ticks": "",
           "title": {
            "standoff": 15
           },
           "zerolinecolor": "#EBF0F8",
           "zerolinewidth": 2
          }
         }
        },
        "title": {
         "text": "Comparison of model predictions"
        },
        "width": 800
       }
      }
     },
     "metadata": {}
    }
   ],
   "source": [
    "# Graph results\n",
    "\n",
    "fig = go.Figure()\n",
    "\n",
    "# Add Function to Predict\n",
    "fig.add_trace(go.Scatter(x=X.flatten(), y=y.flatten(),\n",
    "                    mode='markers',\n",
    "                    name='Function to Predict', marker_color='black')), \n",
    "\n",
    "# Add predictions of fitted models\n",
    "\n",
    "colors=plt.cm.Set1(np.linspace(0, 1, len(results_dict)))\n",
    "for i, model in enumerate(results_dict):\n",
    "\n",
    "    X_pred=X_pred.flatten()\n",
    "    y_median = results_dict[model]['y_median'].flatten()\n",
    "    y_lower_upper_quantil = results_dict[model]['y_lower_upper_quantil']\n",
    "\n",
    "    color=f\"rgba({colors[i][0]},{colors[i][1]},{colors[i][2]},{colors[i][3]})\"\n",
    "    color_fill=f\"rgba({colors[i][0]},{colors[i][1]},{colors[i][2]},{0.5})\"\n",
    "    if len(y_lower_upper_quantil)>1:\n",
    "        y_lower = y_median - y_lower_upper_quantil[:,0]\n",
    "        y_upper = y_median + y_lower_upper_quantil[:,1]\n",
    "    else:\n",
    "        y_lower = y_median - y_lower_upper_quantil\n",
    "        y_lower = y_median + y_lower_upper_quantil\n",
    "\n",
    "    # median\n",
    "    fig.add_trace(go.Scatter(x=X_pred.flatten(), y=y_median.flatten(),\n",
    "                    mode='lines',\n",
    "                    name=f'{model} median', marker_color=color))\n",
    "    fig.add_trace(go.Scatter(x=X_pred,y=y_upper,mode='lines',name=f'{model} upper intervall',fill=None, fillcolor=color_fill, line_color=color_fill))\n",
    "    fig.add_trace(go.Scatter(x=X_pred,y=y_lower,mode='lines',name=f'{model} lower intervall',fill='tonexty',fillcolor=color_fill, line_color=color_fill))\n",
    "\n",
    "\n",
    "fig.update_layout(title='Comparison of model predictions',\n",
    "                  height=600,\n",
    "                  width=800,\n",
    "                  template=\"plotly_white\")\n",
    "fig.show()"
   ]
  },
  {
   "cell_type": "code",
   "execution_count": 16,
   "metadata": {},
   "outputs": [],
   "source": [
    "# Compare for UCI Datsets\n",
    "from sklearn.model_selection import train_test_split\n",
    "\n",
    "# To do implement multiple datasets\n",
    "from sklearn.datasets import load_boston\n",
    "X, y = load_boston(return_X_y=True)\n",
    "\n",
    "X_train, X_test, y_train, y_test = train_test_split(X,y)\n",
    "\n",
    "num_features=X_train.shape[1]\n",
    "num_labels=1\n",
    "\n",
    "# Make dict of models to compare\n",
    "models_dict={\n",
    "            'bootstrap_net':bootstrap_ensemble(num_features, num_labels, hidden_layers=(500,500,), droprate=0.0, lr=0.02,            weight_decay=1e-6, cuda=False, num_nets=10, activation='CELU',max_epoch=500),\n",
    "            'monte-carlo-dropout-net':bootstrap_ensemble(num_features, num_labels, hidden_layers=(500,500,),\n",
    "            droprate=0.5, lr=0.02,weight_decay=1e-6, cuda=False, activation='CELU',max_epoch=500)\n",
    "}\n",
    "\n",
    "results_dict={}\n",
    "for model in models_dict:\n",
    "    reg = models_dict[model]\n",
    "    reg.fit(X_train,y_train, verbose=False)\n",
    "    y_median, y_lower_upper_quantil = reg.predict(X_test, return_std=True)\n",
    "    results_dict[model]={'X_pred':X_train,'y_test':y_test, 'y_median':y_median, 'y_lower_upper_quantil':y_lower_upper_quantil}"
   ]
  },
  {
   "cell_type": "code",
   "execution_count": 25,
   "metadata": {},
   "outputs": [
    {
     "output_type": "display_data",
     "data": {
      "application/vnd.plotly.v1+json": {
       "config": {
        "plotlyServerURL": "https://plot.ly"
       },
       "data": [
        {
         "marker": {
          "color": "black"
         },
         "mode": "lines",
         "name": "Unity line",
         "type": "scatter",
         "x": [
          14.9,
          18.8,
          25,
          17.4,
          16,
          22.6,
          23,
          25.1,
          11.3,
          32.2,
          33.3,
          34.9,
          50,
          24.4,
          16.1,
          16.1,
          15.6,
          50,
          28,
          16.7,
          7.2,
          14.1,
          29.8,
          22.6,
          22,
          22,
          19.1,
          12.7,
          30.1,
          22.9,
          22.5,
          23.1,
          20.8,
          19.2,
          14.1,
          20.4,
          19.4,
          22.8,
          29,
          23.6,
          20.9,
          9.7,
          16.2,
          24.8,
          13.1,
          28.4,
          20,
          18.8,
          46.7,
          28.7,
          21.7,
          21.9,
          50,
          21.2,
          14.6,
          19,
          20,
          24.1,
          18.9,
          24.7,
          27.1,
          5,
          18.7,
          24.3,
          27.5,
          23.5,
          22.9,
          31.6,
          24.1,
          23.7,
          32.9,
          14.9,
          27.5,
          22.5,
          17.7,
          24.4,
          21.4,
          17.8,
          22.3,
          15.6,
          34.9,
          11.8,
          35.4,
          11,
          20.1,
          31.7,
          17.5,
          24.2,
          16.1,
          18.6,
          23.3,
          31.6,
          19,
          30.1,
          12.7,
          19.8,
          27.5,
          18.5,
          26.6,
          20.3,
          19.4,
          20.8,
          26.4,
          50,
          43.5,
          11.7,
          10.2,
          22,
          17.2,
          19.6,
          37.9,
          20,
          16.5,
          20.5,
          8.3,
          22.8,
          20.6,
          12.7,
          33.8,
          23.1,
          12.6,
          15.4,
          21.8,
          13.8,
          21.4,
          36.5,
          24.7
         ],
         "y": [
          14.9,
          18.8,
          25,
          17.4,
          16,
          22.6,
          23,
          25.1,
          11.3,
          32.2,
          33.3,
          34.9,
          50,
          24.4,
          16.1,
          16.1,
          15.6,
          50,
          28,
          16.7,
          7.2,
          14.1,
          29.8,
          22.6,
          22,
          22,
          19.1,
          12.7,
          30.1,
          22.9,
          22.5,
          23.1,
          20.8,
          19.2,
          14.1,
          20.4,
          19.4,
          22.8,
          29,
          23.6,
          20.9,
          9.7,
          16.2,
          24.8,
          13.1,
          28.4,
          20,
          18.8,
          46.7,
          28.7,
          21.7,
          21.9,
          50,
          21.2,
          14.6,
          19,
          20,
          24.1,
          18.9,
          24.7,
          27.1,
          5,
          18.7,
          24.3,
          27.5,
          23.5,
          22.9,
          31.6,
          24.1,
          23.7,
          32.9,
          14.9,
          27.5,
          22.5,
          17.7,
          24.4,
          21.4,
          17.8,
          22.3,
          15.6,
          34.9,
          11.8,
          35.4,
          11,
          20.1,
          31.7,
          17.5,
          24.2,
          16.1,
          18.6,
          23.3,
          31.6,
          19,
          30.1,
          12.7,
          19.8,
          27.5,
          18.5,
          26.6,
          20.3,
          19.4,
          20.8,
          26.4,
          50,
          43.5,
          11.7,
          10.2,
          22,
          17.2,
          19.6,
          37.9,
          20,
          16.5,
          20.5,
          8.3,
          22.8,
          20.6,
          12.7,
          33.8,
          23.1,
          12.6,
          15.4,
          21.8,
          13.8,
          21.4,
          36.5,
          24.7
         ]
        },
        {
         "error_y": {
          "array": [
           24.207798576354982,
           23.891107368469235,
           24.728353023529053,
           24.4303991317749,
           24.25256872177124,
           23.832041454315185,
           24.315689182281496,
           23.88613338470459,
           25.077244472503658,
           24.998551845550537,
           25.047206306457518,
           24.647589588165282,
           24.190207386016844,
           24.45463876724243,
           22.537946701049805,
           23.194690322875974,
           23.882763195037843,
           23.907489204406737,
           24.44299736022949,
           24.700217342376707,
           25.182473945617673,
           23.12995901107788,
           23.557752513885497,
           24.234669876098632,
           24.461922073364256,
           24.39479265213013,
           24.26841506958008,
           23.71616086959839,
           24.259187126159667,
           24.112552642822266,
           23.73323745727539,
           24.13759574890137,
           24.25354022979736,
           24.932369232177734,
           24.990692806243896,
           24.25805597305298,
           24.276777839660646,
           24.02754049301147,
           23.519572448730468,
           24.047108840942386,
           24.20433654785156,
           24.95704774856567,
           24.219478797912597,
           23.805026531219482,
           23.403506088256833,
           23.082237052917478,
           23.586516189575196,
           23.854049682617188,
           24.2740008354187,
           24.092332077026366,
           24.455198764801025,
           25.034525394439697,
           23.71412830352783,
           24.015462779998778,
           24.66805620193481,
           23.285844993591308,
           24.746350097656247,
           25.112776279449463,
           24.197193145751953,
           25.25584831237793,
           24.30176773071289,
           26.583048439025877,
           24.008806705474854,
           24.11052837371826,
           23.63410587310791,
           25.12620153427124,
           24.456949043273923,
           24.49398880004883,
           25.103885173797607,
           23.62148017883301,
           24.941112136840818,
           23.490299892425536,
           24.84196605682373,
           24.485201835632324,
           24.326445198059083,
           24.36241512298584,
           24.37057247161865,
           24.94764070510864,
           24.493517303466795,
           23.54948406219482,
           23.903374671936035,
           24.339259433746335,
           24.33639278411865,
           22.547033309936523,
           23.93828086853027,
           23.56903657913208,
           24.27082691192627,
           24.57413778305054,
           24.41250467300415,
           23.01954231262207,
           23.746742057800294,
           23.442928886413576,
           24.596936416625976,
           23.87282781600952,
           24.651899909973142,
           24.123636341094972,
           24.16447563171387,
           24.085478496551513,
           23.918168163299562,
           23.94771614074707,
           23.9384464263916,
           24.329933071136473,
           23.690427017211913,
           24.531257534027098,
           23.971302318572995,
           23.837652015686032,
           25.235858345031737,
           24.08879451751709,
           23.99258098602295,
           24.388251590728757,
           24.474516773223876,
           24.49962568283081,
           23.91529769897461,
           23.80502281188965,
           24.517949867248532,
           24.21000204086304,
           24.492502689361572,
           23.493080139160156,
           24.01809206008911,
           24.198956966400146,
           24.71755599975586,
           23.560691261291502,
           24.073437499999997,
           24.3114501953125,
           23.971229076385498,
           23.925064373016358,
           23.536696434020996
          ],
          "arrayminus": [
           21.258711242675783,
           21.497869968414307,
           22.022718334197997,
           21.819776630401613,
           21.630303096771243,
           21.355327129364014,
           22.114056777954104,
           21.948187541961673,
           22.328505706787112,
           21.98555192947388,
           21.668980598449707,
           22.17144279479981,
           21.636644554138186,
           22.358286285400393,
           19.426791572570803,
           19.653080463409424,
           15.167045640945435,
           19.39547691345215,
           22.02246551513672,
           22.177688884735108,
           22.29164981842041,
           20.405620956420897,
           20.677579116821292,
           21.810770797729496,
           21.656096744537354,
           22.10325756072998,
           21.41454267501831,
           19.687210655212404,
           21.48039121627808,
           21.942696952819826,
           20.952590465545654,
           19.934873390197755,
           21.866583824157715,
           22.267225742340088,
           22.266880893707278,
           21.92880449295044,
           22.142932987213136,
           21.49025535583496,
           20.68792781829834,
           21.621857738494874,
           21.661348342895508,
           22.287271118164064,
           22.069712257385255,
           21.23686962127686,
           21.164788055419923,
           19.820517349243165,
           21.139583587646484,
           21.699198436737063,
           20.046655654907227,
           21.415913391113282,
           22.01800708770752,
           21.78637571334839,
           21.724260807037354,
           21.646000862121582,
           21.997556495666508,
           19.63295478820801,
           21.49250812530518,
           18.5645694732666,
           22.148887062072756,
           21.879477405548094,
           22.34393072128296,
           21.642787075042726,
           21.614822673797608,
           21.689330005645754,
           21.052269649505618,
           22.085636425018315,
           21.86638565063477,
           21.684723377227783,
           21.504254245758055,
           19.440117168426518,
           21.752337646484378,
           20.629137229919436,
           22.170397186279295,
           21.51505527496338,
           21.947708415985108,
           21.799756717681888,
           20.909923934936522,
           22.0107723236084,
           21.82939558029175,
           17.10760107040405,
           21.3523211479187,
           22.079386520385746,
           21.653317642211917,
           20.066321563720706,
           20.96801748275757,
           21.396096038818364,
           21.077455520629883,
           20.473611450195314,
           21.981216049194337,
           16.51958169937134,
           21.128277969360354,
           21.19528160095215,
           21.645702648162843,
           13.281349730491637,
           22.15700941085816,
           22.16514644622803,
           21.92632875442505,
           21.939287185668945,
           21.655622863769533,
           21.607468032836916,
           21.97445507049561,
           21.09641036987305,
           21.608670520782475,
           21.951142501831058,
           21.26810598373413,
           20.148450279235842,
           22.257264137268066,
           21.826088523864748,
           20.332617568969727,
           22.03593578338623,
           19.332546520233155,
           22.258352661132815,
           19.313436031341553,
           21.510623931884766,
           21.280510902404785,
           22.05100326538086,
           22.13463077545166,
           21.238837242126465,
           21.513014984130862,
           21.89936323165894,
           22.09624481201172,
           20.83837003707886,
           21.39601860046387,
           21.71488332748413,
           21.358949565887453,
           21.3906759262085,
           19.677450275421144
          ],
          "symmetric": false,
          "type": "data"
         },
         "marker": {
          "color": "rgba(0.8941176470588236,0.10196078431372549,0.10980392156862745,0.5)"
         },
         "mode": "markers",
         "name": "bootstrap_net",
         "type": "scatter",
         "x": [
          14.9,
          18.8,
          25,
          17.4,
          16,
          22.6,
          23,
          25.1,
          11.3,
          32.2,
          33.3,
          34.9,
          50,
          24.4,
          16.1,
          16.1,
          15.6,
          50,
          28,
          16.7,
          7.2,
          14.1,
          29.8,
          22.6,
          22,
          22,
          19.1,
          12.7,
          30.1,
          22.9,
          22.5,
          23.1,
          20.8,
          19.2,
          14.1,
          20.4,
          19.4,
          22.8,
          29,
          23.6,
          20.9,
          9.7,
          16.2,
          24.8,
          13.1,
          28.4,
          20,
          18.8,
          46.7,
          28.7,
          21.7,
          21.9,
          50,
          21.2,
          14.6,
          19,
          20,
          24.1,
          18.9,
          24.7,
          27.1,
          5,
          18.7,
          24.3,
          27.5,
          23.5,
          22.9,
          31.6,
          24.1,
          23.7,
          32.9,
          14.9,
          27.5,
          22.5,
          17.7,
          24.4,
          21.4,
          17.8,
          22.3,
          15.6,
          34.9,
          11.8,
          35.4,
          11,
          20.1,
          31.7,
          17.5,
          24.2,
          16.1,
          18.6,
          23.3,
          31.6,
          19,
          30.1,
          12.7,
          19.8,
          27.5,
          18.5,
          26.6,
          20.3,
          19.4,
          20.8,
          26.4,
          50,
          43.5,
          11.7,
          10.2,
          22,
          17.2,
          19.6,
          37.9,
          20,
          16.5,
          20.5,
          8.3,
          22.8,
          20.6,
          12.7,
          33.8,
          23.1,
          12.6,
          15.4,
          21.8,
          13.8,
          21.4,
          36.5,
          24.7
         ],
         "y": [
          22.70817470550537,
          22.559810638427734,
          23.519325256347656,
          23.588293075561523,
          23.117677688598633,
          22.02178955078125,
          23.076854705810547,
          22.581265449523926,
          23.082868576049805,
          23.114309310913086,
          22.90907859802246,
          22.757448196411133,
          22.25649070739746,
          22.837924003601074,
          20.88503646850586,
          21.55817985534668,
          21.392492294311523,
          21.872066497802734,
          22.776755332946777,
          22.965096473693848,
          23.04404354095459,
          22.32748794555664,
          21.848342895507812,
          22.286151885986328,
          22.53042697906494,
          22.960195541381836,
          22.763582229614258,
          22.10346794128418,
          22.429723739624023,
          22.801403045654297,
          21.97782611846924,
          22.6909761428833,
          22.507266998291016,
          23.844860076904297,
          23.075873374938965,
          22.971070289611816,
          22.68522834777832,
          22.448594093322754,
          21.91286277770996,
          22.22743034362793,
          22.67168617248535,
          22.911884307861328,
          22.789039611816406,
          22.46776580810547,
          22.19576072692871,
          21.525559425354004,
          22.10980987548828,
          22.311856269836426,
          22.123595237731934,
          22.15098762512207,
          22.88770866394043,
          23.441417694091797,
          22.372695922851562,
          22.42433261871338,
          22.846653938293457,
          22.197880744934082,
          22.552968978881836,
          22.115126609802246,
          22.83058738708496,
          23.692626953125,
          22.912614822387695,
          23.007437705993652,
          22.67831039428711,
          23.17435646057129,
          21.759493827819824,
          22.928288459777832,
          23.88992214202881,
          23.00123882293701,
          22.952094078063965,
          22.067577362060547,
          22.316967010498047,
          22.416765213012695,
          23.38146209716797,
          22.39281940460205,
          22.75705909729004,
          22.685813903808594,
          21.943830490112305,
          23.20304012298584,
          23.648818016052246,
          20.736005783081055,
          22.29658317565918,
          22.8019437789917,
          22.925474166870117,
          21.80666732788086,
          22.285741806030273,
          22.217366218566895,
          22.122573852539062,
          22.505745887756348,
          22.7463436126709,
          20.714855194091797,
          22.324936866760254,
          22.111328125,
          22.644062042236328,
          21.48593044281006,
          22.701205253601074,
          22.839356422424316,
          22.681653022766113,
          22.71497917175293,
          22.93800163269043,
          22.248711585998535,
          22.661885261535645,
          22.04736614227295,
          22.297557830810547,
          22.75218391418457,
          22.100783348083496,
          22.327797889709473,
          22.967652320861816,
          23.000152587890625,
          21.722506523132324,
          22.87855339050293,
          21.857783317565918,
          23.094368934631348,
          20.792622566223145,
          22.407050132751465,
          23.313121795654297,
          22.7405424118042,
          24.039284706115723,
          22.30111598968506,
          22.27554702758789,
          22.739910125732422,
          22.858503341674805,
          22.09506130218506,
          22.181206703186035,
          22.60736083984375,
          22.524109840393066,
          22.24956226348877,
          22.272035598754883
         ]
        },
        {
         "error_y": {
          "array": [
           23.896106719970703,
           23.15839605331421,
           24.69097204208374,
           24.83296375274658,
           23.807291126251222,
           23.40424461364746,
           24.44120817184448,
           23.731902885437012,
           24.27404384613037,
           23.26062707901001,
           24.33872480392456,
           24.27080249786377,
           25.322731971740723,
           23.41567630767822,
           24.458465194702146,
           23.320760822296144,
           24.153914737701413,
           25.60318794250488,
           25.978793144226074,
           23.97985734939575,
           23.83741359710693,
           23.661461067199706,
           24.236464023590088,
           24.05818376541138,
           24.475837802886964,
           22.84539861679077,
           23.11993236541748,
           25.73515853881836,
           23.306431770324707,
           23.96081075668335,
           23.51979398727417,
           23.93844223022461,
           24.28749418258667,
           23.539820861816406,
           23.656755638122558,
           24.387591075897216,
           24.19684257507324,
           23.944434070587157,
           27.361021900177,
           23.607956600189212,
           25.03992929458618,
           23.60001878738403,
           25.38069591522217,
           23.76541337966919,
           22.777412128448486,
           26.016872787475585,
           23.61170902252197,
           25.36698703765869,
           24.986585426330564,
           23.436001205444335,
           23.511929512023926,
           23.068896484375,
           25.32331295013428,
           23.874864292144775,
           23.703176021575928,
           25.1984148979187,
           24.372317409515382,
           23.527513217926025,
           24.87984218597412,
           24.10956344604492,
           22.907622623443604,
           22.829823875427245,
           23.898358821868896,
           23.441526794433592,
           28.530920600891108,
           24.994614410400388,
           23.73050184249878,
           24.18499574661255,
           23.971743297576904,
           23.256913661956787,
           24.378724193573,
           23.635921669006347,
           24.42243547439575,
           24.4788498878479,
           24.78455924987793,
           25.527238082885745,
           23.763301944732664,
           23.265174293518065,
           24.759567642211913,
           23.580396556854247,
           25.96975622177124,
           24.78466329574585,
           23.995624542236328,
           24.60353317260742,
           25.36321048736572,
           25.0512113571167,
           24.323435688018797,
           23.804177951812747,
           24.60637397766113,
           24.496395587921143,
           25.484353351593015,
           23.640846824645998,
           27.87699384689331,
           23.01420860290527,
           25.79953622817993,
           24.424174404144285,
           24.258427906036374,
           23.249371433258055,
           24.521939849853517,
           25.36581354141235,
           24.33262405395508,
           24.17160425186157,
           23.556056022644043,
           26.19089660644531,
           23.840382385253907,
           24.142649555206297,
           25.213396835327146,
           23.56068286895752,
           24.100967216491696,
           24.58377990722656,
           24.583480834960934,
           23.31124334335327,
           23.422523975372314,
           23.484164714813232,
           26.63231687545776,
           25.352357959747316,
           23.798901176452638,
           24.62925729751587,
           24.569881725311276,
           23.795121097564696,
           24.32497806549072,
           23.7382794380188,
           22.84647207260132,
           26.067258930206293,
           24.757811069488525,
           24.17800941467285,
           24.875693702697752
          ],
          "arrayminus": [
           20.28205919265747,
           19.54957628250122,
           18.98707895278931,
           19.97941417694092,
           19.17209939956665,
           19.824008083343507,
           20.792620086669924,
           20.374887943267822,
           19.336830139160156,
           20.710128021240237,
           20.58769884109497,
           18.86923761367798,
           18.797196578979495,
           19.455228137969975,
           18.029057693481448,
           18.197546291351323,
           17.68783664703369,
           19.113621330261232,
           20.802632427215578,
           19.462515735626223,
           20.23656177520752,
           17.96585674285889,
           20.456350803375244,
           19.068096351623538,
           20.519345855712892,
           18.05368394851685,
           19.45134916305542,
           20.613567924499513,
           20.013003730773924,
           17.000138378143312,
           18.930804824829103,
           19.106477165222167,
           18.65063133239746,
           17.735781955718995,
           17.416464233398436,
           17.222109413146974,
           19.914066219329836,
           19.865025329589844,
           19.853465270996097,
           20.798092937469484,
           20.06487903594971,
           7.069665920734407,
           20.986651515960695,
           20.01903276443482,
           20.18036117553711,
           18.987030029296875,
           20.995522117614748,
           20.63537635803223,
           19.437280368804934,
           19.71555938720703,
           20.181165027618412,
           19.852788066864015,
           19.608669471740725,
           20.7552321434021,
           20.21234073638916,
           19.27707738876343,
           19.92322225570679,
           19.369387340545657,
           19.010958385467532,
           20.68319540023804,
           19.242591667175294,
           19.370744609832766,
           18.83369646072388,
           19.20006093978882,
           19.698045349121095,
           18.771794605255128,
           19.68380346298218,
           21.288785457611084,
           20.377443981170657,
           19.216891002655032,
           20.282313346862793,
           19.519475841522215,
           19.035568904876712,
           19.247703075408936,
           19.940524578094482,
           20.057478523254396,
           19.361364364624023,
           19.79477462768555,
           19.597554206848145,
           21.198654651641846,
           20.22561559677124,
           20.06442060470581,
           19.74329824447632,
           21.64111852645874,
           19.701855754852296,
           21.66732177734375,
           20.434153175354005,
           18.54431371688843,
           20.465789031982425,
           20.195141029357913,
           20.557116317749024,
           18.200906181335448,
           18.803729343414307,
           18.225055694580078,
           19.13537635803223,
           20.73501081466675,
           19.3978497505188,
           20.616073417663575,
           17.68346824645996,
           19.869979763031008,
           20.51241340637207,
           19.881053638458255,
           20.71799373626709,
           18.482178592681887,
           19.644153690338136,
           19.762833023071288,
           21.948367500305174,
           20.584841346740724,
           20.81500129699707,
           20.009866905212405,
           18.1724591255188,
           20.080654621124268,
           20.591254329681398,
           19.48556423187256,
           19.442566871643066,
           19.424571800231934,
           18.601120758056645,
           18.89172821044922,
           19.474725627899172,
           18.63076686859131,
           20.044315242767336,
           20.120138740539552,
           20.776934051513674,
           19.93025178909302,
           20.25035285949707,
           19.445207023620608,
           19.26037654876709
          ],
          "symmetric": false,
          "type": "data"
         },
         "marker": {
          "color": "rgba(0.6,0.6,0.6,0.5)"
         },
         "mode": "markers",
         "name": "monte-carlo-dropout-net",
         "type": "scatter",
         "x": [
          14.9,
          18.8,
          25,
          17.4,
          16,
          22.6,
          23,
          25.1,
          11.3,
          32.2,
          33.3,
          34.9,
          50,
          24.4,
          16.1,
          16.1,
          15.6,
          50,
          28,
          16.7,
          7.2,
          14.1,
          29.8,
          22.6,
          22,
          22,
          19.1,
          12.7,
          30.1,
          22.9,
          22.5,
          23.1,
          20.8,
          19.2,
          14.1,
          20.4,
          19.4,
          22.8,
          29,
          23.6,
          20.9,
          9.7,
          16.2,
          24.8,
          13.1,
          28.4,
          20,
          18.8,
          46.7,
          28.7,
          21.7,
          21.9,
          50,
          21.2,
          14.6,
          19,
          20,
          24.1,
          18.9,
          24.7,
          27.1,
          5,
          18.7,
          24.3,
          27.5,
          23.5,
          22.9,
          31.6,
          24.1,
          23.7,
          32.9,
          14.9,
          27.5,
          22.5,
          17.7,
          24.4,
          21.4,
          17.8,
          22.3,
          15.6,
          34.9,
          11.8,
          35.4,
          11,
          20.1,
          31.7,
          17.5,
          24.2,
          16.1,
          18.6,
          23.3,
          31.6,
          19,
          30.1,
          12.7,
          19.8,
          27.5,
          18.5,
          26.6,
          20.3,
          19.4,
          20.8,
          26.4,
          50,
          43.5,
          11.7,
          10.2,
          22,
          17.2,
          19.6,
          37.9,
          20,
          16.5,
          20.5,
          8.3,
          22.8,
          20.6,
          12.7,
          33.8,
          23.1,
          12.6,
          15.4,
          21.8,
          13.8,
          21.4,
          36.5,
          24.7
         ],
         "y": [
          21.89311408996582,
          21.952204704284668,
          21.05834197998047,
          22.945857048034668,
          22.196285247802734,
          21.196248054504395,
          22.639552116394043,
          21.942081451416016,
          21.495854377746582,
          22.602843284606934,
          22.62316131591797,
          22.2788028717041,
          22.535042762756348,
          21.88741970062256,
          22.512717247009277,
          20.553030967712402,
          21.833106994628906,
          22.477285385131836,
          23.134611129760742,
          22.34956932067871,
          21.701969146728516,
          21.48086929321289,
          21.619179725646973,
          22.683463096618652,
          22.44516944885254,
          20.95553207397461,
          22.191519737243652,
          23.271559715270996,
          21.206798553466797,
          21.67178726196289,
          21.15299129486084,
          21.50385856628418,
          21.93062973022461,
          21.548943519592285,
          21.502182006835938,
          20.676871299743652,
          21.98873519897461,
          22.188533782958984,
          21.711580276489258,
          22.376709938049316,
          21.675020217895508,
          22.427236557006836,
          22.89932918548584,
          21.814767837524414,
          20.950042724609375,
          23.089120864868164,
          22.58711528778076,
          22.012545585632324,
          21.0371732711792,
          21.622164726257324,
          22.013439178466797,
          21.939841270446777,
          22.70407772064209,
          21.97709083557129,
          21.7141695022583,
          21.799744606018066,
          22.014013290405273,
          22.590855598449707,
          22.009535789489746,
          22.28134536743164,
          21.427627563476562,
          21.070959091186523,
          20.75550079345703,
          21.996906280517578,
          22.358412742614746,
          22.36823081970215,
          22.0830078125,
          23.248461723327637,
          22.334848403930664,
          22.891176223754883,
          22.536470413208008,
          21.610451698303223,
          21.890889167785645,
          21.854117393493652,
          22.13662338256836,
          21.816844940185547,
          21.479397773742676,
          22.028772354125977,
          21.458165168762207,
          21.61110782623291,
          23.134864807128906,
          23.35480308532715,
          21.716020584106445,
          22.53434181213379,
          21.884737968444824,
          22.7503080368042,
          22.156079292297363,
          20.91673183441162,
          22.79911708831787,
          22.408503532409668,
          23.292607307434082,
          21.98018455505371,
          22.41465663909912,
          21.12454605102539,
          21.477070808410645,
          22.822522163391113,
          22.615596771240234,
          23.042774200439453,
          21.108047485351562,
          22.096940994262695,
          22.812824249267578,
          21.391505241394043,
          22.75470542907715,
          22.383033752441406,
          22.952452659606934,
          21.553980827331543,
          23.01076602935791,
          22.271069526672363,
          22.751734733581543,
          22.27339744567871,
          21.914775848388672,
          21.361730575561523,
          21.72340488433838,
          21.35021686553955,
          21.514354705810547,
          21.7752685546875,
          22.091812133789062,
          21.14257526397705,
          22.50723361968994,
          21.37317180633545,
          22.641761779785156,
          22.095125198364258,
          21.534576416015625,
          21.15340805053711,
          21.961583137512207,
          21.84079360961914,
          22.319510459899902
         ]
        }
       ],
       "layout": {
        "height": 600,
        "template": {
         "data": {
          "bar": [
           {
            "error_x": {
             "color": "#2a3f5f"
            },
            "error_y": {
             "color": "#2a3f5f"
            },
            "marker": {
             "line": {
              "color": "white",
              "width": 0.5
             }
            },
            "type": "bar"
           }
          ],
          "barpolar": [
           {
            "marker": {
             "line": {
              "color": "white",
              "width": 0.5
             }
            },
            "type": "barpolar"
           }
          ],
          "carpet": [
           {
            "aaxis": {
             "endlinecolor": "#2a3f5f",
             "gridcolor": "#C8D4E3",
             "linecolor": "#C8D4E3",
             "minorgridcolor": "#C8D4E3",
             "startlinecolor": "#2a3f5f"
            },
            "baxis": {
             "endlinecolor": "#2a3f5f",
             "gridcolor": "#C8D4E3",
             "linecolor": "#C8D4E3",
             "minorgridcolor": "#C8D4E3",
             "startlinecolor": "#2a3f5f"
            },
            "type": "carpet"
           }
          ],
          "choropleth": [
           {
            "colorbar": {
             "outlinewidth": 0,
             "ticks": ""
            },
            "type": "choropleth"
           }
          ],
          "contour": [
           {
            "colorbar": {
             "outlinewidth": 0,
             "ticks": ""
            },
            "colorscale": [
             [
              0,
              "#0d0887"
             ],
             [
              0.1111111111111111,
              "#46039f"
             ],
             [
              0.2222222222222222,
              "#7201a8"
             ],
             [
              0.3333333333333333,
              "#9c179e"
             ],
             [
              0.4444444444444444,
              "#bd3786"
             ],
             [
              0.5555555555555556,
              "#d8576b"
             ],
             [
              0.6666666666666666,
              "#ed7953"
             ],
             [
              0.7777777777777778,
              "#fb9f3a"
             ],
             [
              0.8888888888888888,
              "#fdca26"
             ],
             [
              1,
              "#f0f921"
             ]
            ],
            "type": "contour"
           }
          ],
          "contourcarpet": [
           {
            "colorbar": {
             "outlinewidth": 0,
             "ticks": ""
            },
            "type": "contourcarpet"
           }
          ],
          "heatmap": [
           {
            "colorbar": {
             "outlinewidth": 0,
             "ticks": ""
            },
            "colorscale": [
             [
              0,
              "#0d0887"
             ],
             [
              0.1111111111111111,
              "#46039f"
             ],
             [
              0.2222222222222222,
              "#7201a8"
             ],
             [
              0.3333333333333333,
              "#9c179e"
             ],
             [
              0.4444444444444444,
              "#bd3786"
             ],
             [
              0.5555555555555556,
              "#d8576b"
             ],
             [
              0.6666666666666666,
              "#ed7953"
             ],
             [
              0.7777777777777778,
              "#fb9f3a"
             ],
             [
              0.8888888888888888,
              "#fdca26"
             ],
             [
              1,
              "#f0f921"
             ]
            ],
            "type": "heatmap"
           }
          ],
          "heatmapgl": [
           {
            "colorbar": {
             "outlinewidth": 0,
             "ticks": ""
            },
            "colorscale": [
             [
              0,
              "#0d0887"
             ],
             [
              0.1111111111111111,
              "#46039f"
             ],
             [
              0.2222222222222222,
              "#7201a8"
             ],
             [
              0.3333333333333333,
              "#9c179e"
             ],
             [
              0.4444444444444444,
              "#bd3786"
             ],
             [
              0.5555555555555556,
              "#d8576b"
             ],
             [
              0.6666666666666666,
              "#ed7953"
             ],
             [
              0.7777777777777778,
              "#fb9f3a"
             ],
             [
              0.8888888888888888,
              "#fdca26"
             ],
             [
              1,
              "#f0f921"
             ]
            ],
            "type": "heatmapgl"
           }
          ],
          "histogram": [
           {
            "marker": {
             "colorbar": {
              "outlinewidth": 0,
              "ticks": ""
             }
            },
            "type": "histogram"
           }
          ],
          "histogram2d": [
           {
            "colorbar": {
             "outlinewidth": 0,
             "ticks": ""
            },
            "colorscale": [
             [
              0,
              "#0d0887"
             ],
             [
              0.1111111111111111,
              "#46039f"
             ],
             [
              0.2222222222222222,
              "#7201a8"
             ],
             [
              0.3333333333333333,
              "#9c179e"
             ],
             [
              0.4444444444444444,
              "#bd3786"
             ],
             [
              0.5555555555555556,
              "#d8576b"
             ],
             [
              0.6666666666666666,
              "#ed7953"
             ],
             [
              0.7777777777777778,
              "#fb9f3a"
             ],
             [
              0.8888888888888888,
              "#fdca26"
             ],
             [
              1,
              "#f0f921"
             ]
            ],
            "type": "histogram2d"
           }
          ],
          "histogram2dcontour": [
           {
            "colorbar": {
             "outlinewidth": 0,
             "ticks": ""
            },
            "colorscale": [
             [
              0,
              "#0d0887"
             ],
             [
              0.1111111111111111,
              "#46039f"
             ],
             [
              0.2222222222222222,
              "#7201a8"
             ],
             [
              0.3333333333333333,
              "#9c179e"
             ],
             [
              0.4444444444444444,
              "#bd3786"
             ],
             [
              0.5555555555555556,
              "#d8576b"
             ],
             [
              0.6666666666666666,
              "#ed7953"
             ],
             [
              0.7777777777777778,
              "#fb9f3a"
             ],
             [
              0.8888888888888888,
              "#fdca26"
             ],
             [
              1,
              "#f0f921"
             ]
            ],
            "type": "histogram2dcontour"
           }
          ],
          "mesh3d": [
           {
            "colorbar": {
             "outlinewidth": 0,
             "ticks": ""
            },
            "type": "mesh3d"
           }
          ],
          "parcoords": [
           {
            "line": {
             "colorbar": {
              "outlinewidth": 0,
              "ticks": ""
             }
            },
            "type": "parcoords"
           }
          ],
          "pie": [
           {
            "automargin": true,
            "type": "pie"
           }
          ],
          "scatter": [
           {
            "marker": {
             "colorbar": {
              "outlinewidth": 0,
              "ticks": ""
             }
            },
            "type": "scatter"
           }
          ],
          "scatter3d": [
           {
            "line": {
             "colorbar": {
              "outlinewidth": 0,
              "ticks": ""
             }
            },
            "marker": {
             "colorbar": {
              "outlinewidth": 0,
              "ticks": ""
             }
            },
            "type": "scatter3d"
           }
          ],
          "scattercarpet": [
           {
            "marker": {
             "colorbar": {
              "outlinewidth": 0,
              "ticks": ""
             }
            },
            "type": "scattercarpet"
           }
          ],
          "scattergeo": [
           {
            "marker": {
             "colorbar": {
              "outlinewidth": 0,
              "ticks": ""
             }
            },
            "type": "scattergeo"
           }
          ],
          "scattergl": [
           {
            "marker": {
             "colorbar": {
              "outlinewidth": 0,
              "ticks": ""
             }
            },
            "type": "scattergl"
           }
          ],
          "scattermapbox": [
           {
            "marker": {
             "colorbar": {
              "outlinewidth": 0,
              "ticks": ""
             }
            },
            "type": "scattermapbox"
           }
          ],
          "scatterpolar": [
           {
            "marker": {
             "colorbar": {
              "outlinewidth": 0,
              "ticks": ""
             }
            },
            "type": "scatterpolar"
           }
          ],
          "scatterpolargl": [
           {
            "marker": {
             "colorbar": {
              "outlinewidth": 0,
              "ticks": ""
             }
            },
            "type": "scatterpolargl"
           }
          ],
          "scatterternary": [
           {
            "marker": {
             "colorbar": {
              "outlinewidth": 0,
              "ticks": ""
             }
            },
            "type": "scatterternary"
           }
          ],
          "surface": [
           {
            "colorbar": {
             "outlinewidth": 0,
             "ticks": ""
            },
            "colorscale": [
             [
              0,
              "#0d0887"
             ],
             [
              0.1111111111111111,
              "#46039f"
             ],
             [
              0.2222222222222222,
              "#7201a8"
             ],
             [
              0.3333333333333333,
              "#9c179e"
             ],
             [
              0.4444444444444444,
              "#bd3786"
             ],
             [
              0.5555555555555556,
              "#d8576b"
             ],
             [
              0.6666666666666666,
              "#ed7953"
             ],
             [
              0.7777777777777778,
              "#fb9f3a"
             ],
             [
              0.8888888888888888,
              "#fdca26"
             ],
             [
              1,
              "#f0f921"
             ]
            ],
            "type": "surface"
           }
          ],
          "table": [
           {
            "cells": {
             "fill": {
              "color": "#EBF0F8"
             },
             "line": {
              "color": "white"
             }
            },
            "header": {
             "fill": {
              "color": "#C8D4E3"
             },
             "line": {
              "color": "white"
             }
            },
            "type": "table"
           }
          ]
         },
         "layout": {
          "annotationdefaults": {
           "arrowcolor": "#2a3f5f",
           "arrowhead": 0,
           "arrowwidth": 1
          },
          "coloraxis": {
           "colorbar": {
            "outlinewidth": 0,
            "ticks": ""
           }
          },
          "colorscale": {
           "diverging": [
            [
             0,
             "#8e0152"
            ],
            [
             0.1,
             "#c51b7d"
            ],
            [
             0.2,
             "#de77ae"
            ],
            [
             0.3,
             "#f1b6da"
            ],
            [
             0.4,
             "#fde0ef"
            ],
            [
             0.5,
             "#f7f7f7"
            ],
            [
             0.6,
             "#e6f5d0"
            ],
            [
             0.7,
             "#b8e186"
            ],
            [
             0.8,
             "#7fbc41"
            ],
            [
             0.9,
             "#4d9221"
            ],
            [
             1,
             "#276419"
            ]
           ],
           "sequential": [
            [
             0,
             "#0d0887"
            ],
            [
             0.1111111111111111,
             "#46039f"
            ],
            [
             0.2222222222222222,
             "#7201a8"
            ],
            [
             0.3333333333333333,
             "#9c179e"
            ],
            [
             0.4444444444444444,
             "#bd3786"
            ],
            [
             0.5555555555555556,
             "#d8576b"
            ],
            [
             0.6666666666666666,
             "#ed7953"
            ],
            [
             0.7777777777777778,
             "#fb9f3a"
            ],
            [
             0.8888888888888888,
             "#fdca26"
            ],
            [
             1,
             "#f0f921"
            ]
           ],
           "sequentialminus": [
            [
             0,
             "#0d0887"
            ],
            [
             0.1111111111111111,
             "#46039f"
            ],
            [
             0.2222222222222222,
             "#7201a8"
            ],
            [
             0.3333333333333333,
             "#9c179e"
            ],
            [
             0.4444444444444444,
             "#bd3786"
            ],
            [
             0.5555555555555556,
             "#d8576b"
            ],
            [
             0.6666666666666666,
             "#ed7953"
            ],
            [
             0.7777777777777778,
             "#fb9f3a"
            ],
            [
             0.8888888888888888,
             "#fdca26"
            ],
            [
             1,
             "#f0f921"
            ]
           ]
          },
          "colorway": [
           "#636efa",
           "#EF553B",
           "#00cc96",
           "#ab63fa",
           "#FFA15A",
           "#19d3f3",
           "#FF6692",
           "#B6E880",
           "#FF97FF",
           "#FECB52"
          ],
          "font": {
           "color": "#2a3f5f"
          },
          "geo": {
           "bgcolor": "white",
           "lakecolor": "white",
           "landcolor": "white",
           "showlakes": true,
           "showland": true,
           "subunitcolor": "#C8D4E3"
          },
          "hoverlabel": {
           "align": "left"
          },
          "hovermode": "closest",
          "mapbox": {
           "style": "light"
          },
          "paper_bgcolor": "white",
          "plot_bgcolor": "white",
          "polar": {
           "angularaxis": {
            "gridcolor": "#EBF0F8",
            "linecolor": "#EBF0F8",
            "ticks": ""
           },
           "bgcolor": "white",
           "radialaxis": {
            "gridcolor": "#EBF0F8",
            "linecolor": "#EBF0F8",
            "ticks": ""
           }
          },
          "scene": {
           "xaxis": {
            "backgroundcolor": "white",
            "gridcolor": "#DFE8F3",
            "gridwidth": 2,
            "linecolor": "#EBF0F8",
            "showbackground": true,
            "ticks": "",
            "zerolinecolor": "#EBF0F8"
           },
           "yaxis": {
            "backgroundcolor": "white",
            "gridcolor": "#DFE8F3",
            "gridwidth": 2,
            "linecolor": "#EBF0F8",
            "showbackground": true,
            "ticks": "",
            "zerolinecolor": "#EBF0F8"
           },
           "zaxis": {
            "backgroundcolor": "white",
            "gridcolor": "#DFE8F3",
            "gridwidth": 2,
            "linecolor": "#EBF0F8",
            "showbackground": true,
            "ticks": "",
            "zerolinecolor": "#EBF0F8"
           }
          },
          "shapedefaults": {
           "line": {
            "color": "#2a3f5f"
           }
          },
          "ternary": {
           "aaxis": {
            "gridcolor": "#DFE8F3",
            "linecolor": "#A2B1C6",
            "ticks": ""
           },
           "baxis": {
            "gridcolor": "#DFE8F3",
            "linecolor": "#A2B1C6",
            "ticks": ""
           },
           "bgcolor": "white",
           "caxis": {
            "gridcolor": "#DFE8F3",
            "linecolor": "#A2B1C6",
            "ticks": ""
           }
          },
          "title": {
           "x": 0.05
          },
          "xaxis": {
           "automargin": true,
           "gridcolor": "#EBF0F8",
           "linecolor": "#EBF0F8",
           "ticks": "",
           "title": {
            "standoff": 15
           },
           "zerolinecolor": "#EBF0F8",
           "zerolinewidth": 2
          },
          "yaxis": {
           "automargin": true,
           "gridcolor": "#EBF0F8",
           "linecolor": "#EBF0F8",
           "ticks": "",
           "title": {
            "standoff": 15
           },
           "zerolinecolor": "#EBF0F8",
           "zerolinewidth": 2
          }
         }
        },
        "title": {
         "text": "Comparison of model predictions"
        },
        "width": 800
       }
      }
     },
     "metadata": {}
    }
   ],
   "source": [
    "# Graph results as unity plots\n",
    "fig = go.Figure()\n",
    "\n",
    "# Add Function to Predict\n",
    "fig.add_trace(go.Scatter(x=y_test.flatten(), y=y_test.flatten(),\n",
    "                    mode='lines',\n",
    "                    name='Unity line', marker_color='black')), \n",
    "\n",
    "# Add predictions of fitted models\n",
    "\n",
    "colors=plt.cm.Set1(np.linspace(0, 1, len(results_dict)))\n",
    "for i, model in enumerate(results_dict):\n",
    "\n",
    "    X_pred=results_dict[model]['X_pred'].flatten()\n",
    "    y_test=results_dict[model]['y_test'].flatten()\n",
    "    y_median = results_dict[model]['y_median'].flatten()\n",
    "    y_lower_upper_quantil = results_dict[model]['y_lower_upper_quantil']\n",
    "\n",
    "    color=f\"rgba({colors[i][0]},{colors[i][1]},{colors[i][2]},0.5)\"\n",
    "\n",
    "    if len(y_lower_upper_quantil)>1:\n",
    "        y_lower = y_median - y_lower_upper_quantil[:,0]\n",
    "        y_upper = y_median + y_lower_upper_quantil[:,1]\n",
    "    else:\n",
    "        y_lower = y_median - y_lower_upper_quantil\n",
    "        y_lower = y_median + y_lower_upper_quantil\n",
    "\n",
    "    fig.add_trace(go.Scatter(\n",
    "        x=y_test,\n",
    "        y=y_median,\n",
    "        mode='markers',\n",
    "        name=f'{model}',\n",
    "        marker_color=color,\n",
    "        error_y=dict(\n",
    "            type='data',\n",
    "            symmetric=False,\n",
    "            array=y_upper,\n",
    "            arrayminus=y_lower)\n",
    "        ))\n",
    "\n",
    "fig.update_layout(title='Comparison of model predictions',\n",
    "                  height=600,\n",
    "                  width=800,\n",
    "                  template=\"plotly_white\")\n",
    "fig.show()"
   ]
  },
  {
   "cell_type": "code",
   "execution_count": null,
   "metadata": {},
   "outputs": [],
   "source": []
  }
 ]
}